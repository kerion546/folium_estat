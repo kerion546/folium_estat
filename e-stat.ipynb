{
 "cells": [
  {
   "cell_type": "markdown",
   "metadata": {},
   "source": [
    "# E-statより人口増のヒートマップ"
   ]
  },
  {
   "cell_type": "markdown",
   "metadata": {},
   "source": [
    "## Estat使ってデータ整理"
   ]
  },
  {
   "cell_type": "code",
   "execution_count": 1,
   "metadata": {
    "collapsed": true
   },
   "outputs": [],
   "source": [
    "#E-stat のAPIの使い方参照\n",
    "appid = '98b76b778604e629e8a9f0c244f60cce7658a62f'\n",
    "statsdataid = '0003159141'\n",
    "paramid = '&cdCat01=054&cdCat02=003'\n",
    "url_estat = 'http://api.e-stat.go.jp/rest/2.0/app/json/getStatsData?appId={}&statsDataId={}{}'.format(appid, statsdataid, paramid)"
   ]
  },
  {
   "cell_type": "code",
   "execution_count": 2,
   "metadata": {
    "collapsed": true
   },
   "outputs": [],
   "source": [
    "import json,  requests\n",
    "\n",
    "res = requests.get(url_estat)\n",
    "json_res = json.loads(res.text)"
   ]
  },
  {
   "cell_type": "code",
   "execution_count": 3,
   "metadata": {
    "collapsed": true
   },
   "outputs": [],
   "source": [
    "#JSONが見づらかったのでVALUEに絞ってjson_statへ代入\n",
    "json_stat = json_res['GET_STATS_DATA']['STATISTICAL_DATA']['DATA_INF']['VALUE']"
   ]
  },
  {
   "cell_type": "code",
   "execution_count": 4,
   "metadata": {
    "collapsed": true
   },
   "outputs": [],
   "source": [
    "area = []\n",
    "increace = []\n",
    "\n",
    "for stat in json_stat:\n",
    "    area.append(stat['@area'])\n",
    "    increace.append(stat['$'])"
   ]
  },
  {
   "cell_type": "code",
   "execution_count": 5,
   "metadata": {
    "collapsed": true
   },
   "outputs": [],
   "source": [
    "from pandas import DataFrame\n",
    "import pandas as pd"
   ]
  },
  {
   "cell_type": "code",
   "execution_count": 6,
   "metadata": {
    "collapsed": true
   },
   "outputs": [],
   "source": [
    "df = pd.DataFrame({\"area\" : area, \"increace\" : increace})"
   ]
  },
  {
   "cell_type": "code",
   "execution_count": 7,
   "metadata": {
    "scrolled": true
   },
   "outputs": [
    {
     "data": {
      "text/html": [
       "<div>\n",
       "<style>\n",
       "    .dataframe thead tr:only-child th {\n",
       "        text-align: right;\n",
       "    }\n",
       "\n",
       "    .dataframe thead th {\n",
       "        text-align: left;\n",
       "    }\n",
       "\n",
       "    .dataframe tbody tr th {\n",
       "        vertical-align: top;\n",
       "    }\n",
       "</style>\n",
       "<table border=\"1\" class=\"dataframe\">\n",
       "  <thead>\n",
       "    <tr style=\"text-align: right;\">\n",
       "      <th></th>\n",
       "      <th>area</th>\n",
       "      <th>increace</th>\n",
       "    </tr>\n",
       "  </thead>\n",
       "  <tbody>\n",
       "    <tr>\n",
       "      <th>0</th>\n",
       "      <td>00000</td>\n",
       "      <td>2275331</td>\n",
       "    </tr>\n",
       "    <tr>\n",
       "      <th>1</th>\n",
       "      <td>01000</td>\n",
       "      <td>55418</td>\n",
       "    </tr>\n",
       "    <tr>\n",
       "      <th>2</th>\n",
       "      <td>02000</td>\n",
       "      <td>23384</td>\n",
       "    </tr>\n",
       "    <tr>\n",
       "      <th>3</th>\n",
       "      <td>03000</td>\n",
       "      <td>20983</td>\n",
       "    </tr>\n",
       "    <tr>\n",
       "      <th>4</th>\n",
       "      <td>04000</td>\n",
       "      <td>47607</td>\n",
       "    </tr>\n",
       "  </tbody>\n",
       "</table>\n",
       "</div>"
      ],
      "text/plain": [
       "    area increace\n",
       "0  00000  2275331\n",
       "1  01000    55418\n",
       "2  02000    23384\n",
       "3  03000    20983\n",
       "4  04000    47607"
      ]
     },
     "execution_count": 7,
     "metadata": {},
     "output_type": "execute_result"
    }
   ],
   "source": [
    "df.head() #DataFrameの確認"
   ]
  },
  {
   "cell_type": "code",
   "execution_count": 8,
   "metadata": {
    "collapsed": true
   },
   "outputs": [],
   "source": [
    "#面倒なのでJupyter Notebookで出力してコピった\n",
    "todohuken = [{'@code': '01000', '@level': '1', '@name': '北海道'},\n",
    "       {'@code': '02000', '@level': '1', '@name': '青森県'},\n",
    "       {'@code': '03000', '@level': '1', '@name': '岩手県'},\n",
    "       {'@code': '04000', '@level': '1', '@name': '宮城県'},\n",
    "       {'@code': '05000', '@level': '1', '@name': '秋田県'},\n",
    "       {'@code': '06000', '@level': '1', '@name': '山形県'},\n",
    "       {'@code': '07000', '@level': '1', '@name': '福島県'},\n",
    "       {'@code': '08000', '@level': '1', '@name': '茨城県'},\n",
    "       {'@code': '09000', '@level': '1', '@name': '栃木県'},\n",
    "       {'@code': '10000', '@level': '1', '@name': '群馬県'},\n",
    "       {'@code': '11000', '@level': '1', '@name': '埼玉県'},\n",
    "       {'@code': '12000', '@level': '1', '@name': '千葉県'},\n",
    "       {'@code': '13000', '@level': '1', '@name': '東京都'},\n",
    "       {'@code': '14000', '@level': '1', '@name': '神奈川県'},\n",
    "       {'@code': '15000', '@level': '1', '@name': '新潟県'},\n",
    "       {'@code': '16000', '@level': '1', '@name': '富山県'},\n",
    "       {'@code': '17000', '@level': '1', '@name': '石川県'},\n",
    "       {'@code': '18000', '@level': '1', '@name': '福井県'},\n",
    "       {'@code': '19000', '@level': '1', '@name': '山梨県'},\n",
    "       {'@code': '20000', '@level': '1', '@name': '長野県'},\n",
    "       {'@code': '21000', '@level': '1', '@name': '岐阜県'},\n",
    "       {'@code': '22000', '@level': '1', '@name': '静岡県'},\n",
    "       {'@code': '23000', '@level': '1', '@name': '愛知県'},\n",
    "       {'@code': '24000', '@level': '1', '@name': '三重県'},\n",
    "       {'@code': '25000', '@level': '1', '@name': '滋賀県'},\n",
    "       {'@code': '26000', '@level': '1', '@name': '京都府'},\n",
    "       {'@code': '27000', '@level': '1', '@name': '大阪府'},\n",
    "       {'@code': '28000', '@level': '1', '@name': '兵庫県'},\n",
    "       {'@code': '29000', '@level': '1', '@name': '奈良県'},\n",
    "       {'@code': '30000', '@level': '1', '@name': '和歌山県'},\n",
    "       {'@code': '31000', '@level': '1', '@name': '鳥取県'},\n",
    "       {'@code': '32000', '@level': '1', '@name': '島根県'},\n",
    "       {'@code': '33000', '@level': '1', '@name': '岡山県'},\n",
    "       {'@code': '34000', '@level': '1', '@name': '広島県'},\n",
    "       {'@code': '35000', '@level': '1', '@name': '山口県'},\n",
    "       {'@code': '36000', '@level': '1', '@name': '徳島県'},\n",
    "       {'@code': '37000', '@level': '1', '@name': '香川県'},\n",
    "       {'@code': '38000', '@level': '1', '@name': '愛媛県'},\n",
    "       {'@code': '39000', '@level': '1', '@name': '高知県'},\n",
    "       {'@code': '40000', '@level': '1', '@name': '福岡県'},\n",
    "       {'@code': '41000', '@level': '1', '@name': '佐賀県'},\n",
    "       {'@code': '42000', '@level': '1', '@name': '長崎県'},\n",
    "       {'@code': '43000', '@level': '1', '@name': '熊本県'},\n",
    "       {'@code': '44000', '@level': '1', '@name': '大分県'},\n",
    "       {'@code': '45000', '@level': '1', '@name': '宮崎県'},\n",
    "       {'@code': '46000', '@level': '1', '@name': '鹿児島県'},\n",
    "       {'@code': '47000', '@level': '1', '@name': '沖縄県'}]"
   ]
  },
  {
   "cell_type": "code",
   "execution_count": 9,
   "metadata": {
    "collapsed": true
   },
   "outputs": [],
   "source": [
    "#都道府県のマッピング\n",
    "convert_rules_dict = {}\n",
    "\n",
    "for rule in todohuken:\n",
    "    convert_rules_dict.update({rule['@code'] : rule['@name']})\n",
    "    \n",
    "df['area'] = df['area'].map(convert_rules_dict)"
   ]
  },
  {
   "cell_type": "code",
   "execution_count": 10,
   "metadata": {
    "collapsed": true,
    "scrolled": true
   },
   "outputs": [],
   "source": [
    "#市区町村等のいらないものを削除\n",
    "df = df.dropna() "
   ]
  },
  {
   "cell_type": "code",
   "execution_count": 11,
   "metadata": {},
   "outputs": [
    {
     "data": {
      "text/html": [
       "<div>\n",
       "<style>\n",
       "    .dataframe thead tr:only-child th {\n",
       "        text-align: right;\n",
       "    }\n",
       "\n",
       "    .dataframe thead th {\n",
       "        text-align: left;\n",
       "    }\n",
       "\n",
       "    .dataframe tbody tr th {\n",
       "        vertical-align: top;\n",
       "    }\n",
       "</style>\n",
       "<table border=\"1\" class=\"dataframe\">\n",
       "  <thead>\n",
       "    <tr style=\"text-align: right;\">\n",
       "      <th></th>\n",
       "      <th>area</th>\n",
       "      <th>increace</th>\n",
       "    </tr>\n",
       "  </thead>\n",
       "  <tbody>\n",
       "    <tr>\n",
       "      <th>1</th>\n",
       "      <td>北海道</td>\n",
       "      <td>55418</td>\n",
       "    </tr>\n",
       "    <tr>\n",
       "      <th>2</th>\n",
       "      <td>青森県</td>\n",
       "      <td>23384</td>\n",
       "    </tr>\n",
       "    <tr>\n",
       "      <th>3</th>\n",
       "      <td>岩手県</td>\n",
       "      <td>20983</td>\n",
       "    </tr>\n",
       "    <tr>\n",
       "      <th>4</th>\n",
       "      <td>宮城県</td>\n",
       "      <td>47607</td>\n",
       "    </tr>\n",
       "    <tr>\n",
       "      <th>5</th>\n",
       "      <td>秋田県</td>\n",
       "      <td>15751</td>\n",
       "    </tr>\n",
       "  </tbody>\n",
       "</table>\n",
       "</div>"
      ],
      "text/plain": [
       "  area increace\n",
       "1  北海道    55418\n",
       "2  青森県    23384\n",
       "3  岩手県    20983\n",
       "4  宮城県    47607\n",
       "5  秋田県    15751"
      ]
     },
     "execution_count": 11,
     "metadata": {},
     "output_type": "execute_result"
    }
   ],
   "source": [
    "df.head()"
   ]
  },
  {
   "cell_type": "code",
   "execution_count": 12,
   "metadata": {
    "collapsed": true
   },
   "outputs": [],
   "source": [
    "df2 = pd.read_csv('/Users/matsuzakiyousuke/tespy/todohuken_geo.csv')"
   ]
  },
  {
   "cell_type": "code",
   "execution_count": 13,
   "metadata": {},
   "outputs": [
    {
     "data": {
      "text/html": [
       "<div>\n",
       "<style>\n",
       "    .dataframe thead tr:only-child th {\n",
       "        text-align: right;\n",
       "    }\n",
       "\n",
       "    .dataframe thead th {\n",
       "        text-align: left;\n",
       "    }\n",
       "\n",
       "    .dataframe tbody tr th {\n",
       "        vertical-align: top;\n",
       "    }\n",
       "</style>\n",
       "<table border=\"1\" class=\"dataframe\">\n",
       "  <thead>\n",
       "    <tr style=\"text-align: right;\">\n",
       "      <th></th>\n",
       "      <th>No</th>\n",
       "      <th>都道府県</th>\n",
       "      <th>市区町村</th>\n",
       "      <th>緯度,経度</th>\n",
       "      <th>緯度</th>\n",
       "      <th>経度</th>\n",
       "    </tr>\n",
       "  </thead>\n",
       "  <tbody>\n",
       "    <tr>\n",
       "      <th>0</th>\n",
       "      <td>1</td>\n",
       "      <td>北海道</td>\n",
       "      <td>札幌市</td>\n",
       "      <td>43.06417,141.34694</td>\n",
       "      <td>43.06417</td>\n",
       "      <td>141.34694</td>\n",
       "    </tr>\n",
       "    <tr>\n",
       "      <th>1</th>\n",
       "      <td>2</td>\n",
       "      <td>青森県</td>\n",
       "      <td>青森市</td>\n",
       "      <td>40.82444,140.74</td>\n",
       "      <td>40.82444</td>\n",
       "      <td>140.74000</td>\n",
       "    </tr>\n",
       "    <tr>\n",
       "      <th>2</th>\n",
       "      <td>3</td>\n",
       "      <td>岩手県</td>\n",
       "      <td>盛岡市</td>\n",
       "      <td>39.70361,141.1525</td>\n",
       "      <td>39.70361</td>\n",
       "      <td>141.15250</td>\n",
       "    </tr>\n",
       "    <tr>\n",
       "      <th>3</th>\n",
       "      <td>4</td>\n",
       "      <td>宮城県</td>\n",
       "      <td>仙台市</td>\n",
       "      <td>38.26889,140.87194</td>\n",
       "      <td>38.26889</td>\n",
       "      <td>140.87194</td>\n",
       "    </tr>\n",
       "    <tr>\n",
       "      <th>4</th>\n",
       "      <td>5</td>\n",
       "      <td>秋田県</td>\n",
       "      <td>秋田市</td>\n",
       "      <td>39.71861,140.1025</td>\n",
       "      <td>39.71861</td>\n",
       "      <td>140.10250</td>\n",
       "    </tr>\n",
       "  </tbody>\n",
       "</table>\n",
       "</div>"
      ],
      "text/plain": [
       "   No 都道府県 市区町村               緯度,経度        緯度         経度\n",
       "0   1  北海道  札幌市  43.06417,141.34694  43.06417  141.34694\n",
       "1   2  青森県  青森市     40.82444,140.74  40.82444  140.74000\n",
       "2   3  岩手県  盛岡市   39.70361,141.1525  39.70361  141.15250\n",
       "3   4  宮城県  仙台市  38.26889,140.87194  38.26889  140.87194\n",
       "4   5  秋田県  秋田市   39.71861,140.1025  39.71861  140.10250"
      ]
     },
     "execution_count": 13,
     "metadata": {},
     "output_type": "execute_result"
    }
   ],
   "source": [
    "df2.head()"
   ]
  },
  {
   "cell_type": "code",
   "execution_count": 14,
   "metadata": {
    "collapsed": true
   },
   "outputs": [],
   "source": [
    "todohuken_data_geo = pd.merge(df, df２, left_on='area', right_on='都道府県')"
   ]
  },
  {
   "cell_type": "code",
   "execution_count": 15,
   "metadata": {
    "collapsed": true
   },
   "outputs": [],
   "source": [
    "del todohuken_data_geo['No'], todohuken_data_geo['area']"
   ]
  },
  {
   "cell_type": "code",
   "execution_count": 16,
   "metadata": {},
   "outputs": [
    {
     "data": {
      "text/html": [
       "<div>\n",
       "<style>\n",
       "    .dataframe thead tr:only-child th {\n",
       "        text-align: right;\n",
       "    }\n",
       "\n",
       "    .dataframe thead th {\n",
       "        text-align: left;\n",
       "    }\n",
       "\n",
       "    .dataframe tbody tr th {\n",
       "        vertical-align: top;\n",
       "    }\n",
       "</style>\n",
       "<table border=\"1\" class=\"dataframe\">\n",
       "  <thead>\n",
       "    <tr style=\"text-align: right;\">\n",
       "      <th></th>\n",
       "      <th>increace</th>\n",
       "      <th>都道府県</th>\n",
       "      <th>市区町村</th>\n",
       "      <th>緯度,経度</th>\n",
       "      <th>緯度</th>\n",
       "      <th>経度</th>\n",
       "    </tr>\n",
       "  </thead>\n",
       "  <tbody>\n",
       "    <tr>\n",
       "      <th>0</th>\n",
       "      <td>55418</td>\n",
       "      <td>北海道</td>\n",
       "      <td>札幌市</td>\n",
       "      <td>43.06417,141.34694</td>\n",
       "      <td>43.06417</td>\n",
       "      <td>141.34694</td>\n",
       "    </tr>\n",
       "    <tr>\n",
       "      <th>1</th>\n",
       "      <td>23384</td>\n",
       "      <td>青森県</td>\n",
       "      <td>青森市</td>\n",
       "      <td>40.82444,140.74</td>\n",
       "      <td>40.82444</td>\n",
       "      <td>140.74000</td>\n",
       "    </tr>\n",
       "    <tr>\n",
       "      <th>2</th>\n",
       "      <td>20983</td>\n",
       "      <td>岩手県</td>\n",
       "      <td>盛岡市</td>\n",
       "      <td>39.70361,141.1525</td>\n",
       "      <td>39.70361</td>\n",
       "      <td>141.15250</td>\n",
       "    </tr>\n",
       "    <tr>\n",
       "      <th>3</th>\n",
       "      <td>47607</td>\n",
       "      <td>宮城県</td>\n",
       "      <td>仙台市</td>\n",
       "      <td>38.26889,140.87194</td>\n",
       "      <td>38.26889</td>\n",
       "      <td>140.87194</td>\n",
       "    </tr>\n",
       "    <tr>\n",
       "      <th>4</th>\n",
       "      <td>15751</td>\n",
       "      <td>秋田県</td>\n",
       "      <td>秋田市</td>\n",
       "      <td>39.71861,140.1025</td>\n",
       "      <td>39.71861</td>\n",
       "      <td>140.10250</td>\n",
       "    </tr>\n",
       "  </tbody>\n",
       "</table>\n",
       "</div>"
      ],
      "text/plain": [
       "  increace 都道府県 市区町村               緯度,経度        緯度         経度\n",
       "0    55418  北海道  札幌市  43.06417,141.34694  43.06417  141.34694\n",
       "1    23384  青森県  青森市     40.82444,140.74  40.82444  140.74000\n",
       "2    20983  岩手県  盛岡市   39.70361,141.1525  39.70361  141.15250\n",
       "3    47607  宮城県  仙台市  38.26889,140.87194  38.26889  140.87194\n",
       "4    15751  秋田県  秋田市   39.71861,140.1025  39.71861  140.10250"
      ]
     },
     "execution_count": 16,
     "metadata": {},
     "output_type": "execute_result"
    }
   ],
   "source": [
    "todohuken_data_geo.head()"
   ]
  },
  {
   "cell_type": "markdown",
   "metadata": {},
   "source": [
    "## 地図プロット"
   ]
  },
  {
   "cell_type": "code",
   "execution_count": 17,
   "metadata": {
    "collapsed": true
   },
   "outputs": [],
   "source": [
    "%matplotlib inline\n",
    "import folium\n",
    "\n",
    "todohuken_map = folium.Map(location=[todohuken_data_geo['緯度'].mean(), todohuken_data_geo['経度'].mean()], zoom_start=5)"
   ]
  },
  {
   "cell_type": "code",
   "execution_count": 18,
   "metadata": {
    "scrolled": true
   },
   "outputs": [
    {
     "data": {
      "text/html": [
       "<div style=\"width:100%;\"><div style=\"position:relative;width:100%;height:0;padding-bottom:60%;\"><iframe src=\"data:text/html;charset=utf-8;base64,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\" style=\"position:absolute;width:100%;height:100%;left:0;top:0;border:none !important;\" allowfullscreen webkitallowfullscreen mozallowfullscreen></iframe></div></div>"
      ],
      "text/plain": [
       "<folium.folium.Map at 0x10d4eb630>"
      ]
     },
     "execution_count": 18,
     "metadata": {},
     "output_type": "execute_result"
    }
   ],
   "source": [
    "todohuken_map"
   ]
  },
  {
   "cell_type": "code",
   "execution_count": 19,
   "metadata": {},
   "outputs": [
    {
     "data": {
      "text/plain": [
       "35.382405106382976"
      ]
     },
     "execution_count": 19,
     "metadata": {},
     "output_type": "execute_result"
    }
   ],
   "source": [
    "todohuken_data_geo['緯度'].mean()"
   ]
  },
  {
   "cell_type": "markdown",
   "metadata": {},
   "source": [
    "### 県庁所在地をマーカー表示"
   ]
  },
  {
   "cell_type": "code",
   "execution_count": 20,
   "metadata": {
    "collapsed": true
   },
   "outputs": [],
   "source": [
    "#緯度・経度のタプルが作りたかったが良い方法わからず。力技感\n",
    "coordinates = []\n",
    "\n",
    "keido = list(todohuken_data_geo['経度'])\n",
    "ido = list(todohuken_data_geo['緯度'])\n",
    "\n",
    "for k, i in zip(keido, ido):\n",
    "    coordinates.append((i, k))"
   ]
  },
  {
   "cell_type": "code",
   "execution_count": 21,
   "metadata": {},
   "outputs": [
    {
     "data": {
      "text/html": [
       "<div style=\"width:100%;\"><div style=\"position:relative;width:100%;height:0;padding-bottom:60%;\"><iframe src=\"data:text/html;charset=utf-8;base64,PCFET0NUWVBFIGh0bWw+CjxoZWFkPiAgICAKICAgIDxtZXRhIGh0dHAtZXF1aXY9ImNvbnRlbnQtdHlwZSIgY29udGVudD0idGV4dC9odG1sOyBjaGFyc2V0PVVURi04IiAvPgogICAgPHNjcmlwdD5MX1BSRUZFUl9DQU5WQVMgPSBmYWxzZTsgTF9OT19UT1VDSCA9IGZhbHNlOyBMX0RJU0FCTEVfM0QgPSBmYWxzZTs8L3NjcmlwdD4KICAgIDxzY3JpcHQgc3JjPSJodHRwczovL3VucGtnLmNvbS9sZWFmbGV0QDEuMC4xL2Rpc3QvbGVhZmxldC5qcyI+PC9zY3JpcHQ+CiAgICA8c2NyaXB0IHNyYz0iaHR0cHM6Ly9hamF4Lmdvb2dsZWFwaXMuY29tL2FqYXgvbGlicy9qcXVlcnkvMS4xMS4xL2pxdWVyeS5taW4uanMiPjwvc2NyaXB0PgogICAgPHNjcmlwdCBzcmM9Imh0dHBzOi8vbWF4Y2RuLmJvb3RzdHJhcGNkbi5jb20vYm9vdHN0cmFwLzMuMi4wL2pzL2Jvb3RzdHJhcC5taW4uanMiPjwvc2NyaXB0PgogICAgPHNjcmlwdCBzcmM9Imh0dHBzOi8vY2RuanMuY2xvdWRmbGFyZS5jb20vYWpheC9saWJzL0xlYWZsZXQuYXdlc29tZS1tYXJrZXJzLzIuMC4yL2xlYWZsZXQuYXdlc29tZS1tYXJrZXJzLmpzIj48L3NjcmlwdD4KICAgIDxzY3JpcHQgc3JjPSJodHRwczovL2NkbmpzLmNsb3VkZmxhcmUuY29tL2FqYXgvbGlicy9sZWFmbGV0Lm1hcmtlcmNsdXN0ZXIvMS4wLjAvbGVhZmxldC5tYXJrZXJjbHVzdGVyLXNyYy5qcyI+PC9zY3JpcHQ+CiAgICA8c2NyaXB0IHNyYz0iaHR0cHM6Ly9jZG5qcy5jbG91ZGZsYXJlLmNvbS9hamF4L2xpYnMvbGVhZmxldC5tYXJrZXJjbHVzdGVyLzEuMC4wL2xlYWZsZXQubWFya2VyY2x1c3Rlci5qcyI+PC9zY3JpcHQ+CiAgICA8bGluayByZWw9InN0eWxlc2hlZXQiIGhyZWY9Imh0dHBzOi8vdW5wa2cuY29tL2xlYWZsZXRAMS4wLjEvZGlzdC9sZWFmbGV0LmNzcyIgLz4KICAgIDxsaW5rIHJlbD0ic3R5bGVzaGVldCIgaHJlZj0iaHR0cHM6Ly9tYXhjZG4uYm9vdHN0cmFwY2RuLmNvbS9ib290c3RyYXAvMy4yLjAvY3NzL2Jvb3RzdHJhcC5taW4uY3NzIiAvPgogICAgPGxpbmsgcmVsPSJzdHlsZXNoZWV0IiBocmVmPSJodHRwczovL21heGNkbi5ib290c3RyYXBjZG4uY29tL2Jvb3RzdHJhcC8zLjIuMC9jc3MvYm9vdHN0cmFwLXRoZW1lLm1pbi5jc3MiIC8+CiAgICA8bGluayByZWw9InN0eWxlc2hlZXQiIGhyZWY9Imh0dHBzOi8vbWF4Y2RuLmJvb3RzdHJhcGNkbi5jb20vZm9udC1hd2Vzb21lLzQuNi4zL2Nzcy9mb250LWF3ZXNvbWUubWluLmNzcyIgLz4KICAgIDxsaW5rIHJlbD0ic3R5bGVzaGVldCIgaHJlZj0iaHR0cHM6Ly9jZG5qcy5jbG91ZGZsYXJlLmNvbS9hamF4L2xpYnMvTGVhZmxldC5hd2Vzb21lLW1hcmtlcnMvMi4wLjIvbGVhZmxldC5hd2Vzb21lLW1hcmtlcnMuY3NzIiAvPgogICAgPGxpbmsgcmVsPSJzdHlsZXNoZWV0IiBocmVmPSJodHRwczovL2NkbmpzLmNsb3VkZmxhcmUuY29tL2FqYXgvbGlicy9sZWFmbGV0Lm1hcmtlcmNsdXN0ZXIvMS4wLjAvTWFya2VyQ2x1c3Rlci5EZWZhdWx0LmNzcyIgLz4KICAgIDxsaW5rIHJlbD0ic3R5bGVzaGVldCIgaHJlZj0iaHR0cHM6Ly9jZG5qcy5jbG91ZGZsYXJlLmNvbS9hamF4L2xpYnMvbGVhZmxldC5tYXJrZXJjbHVzdGVyLzEuMC4wL01hcmtlckNsdXN0ZXIuY3NzIiAvPgogICAgPGxpbmsgcmVsPSJzdHlsZXNoZWV0IiBocmVmPSJodHRwczovL3Jhd2dpdC5jb20vcHl0aG9uLXZpc3VhbGl6YXRpb24vZm9saXVtL21hc3Rlci9mb2xpdW0vdGVtcGxhdGVzL2xlYWZsZXQuYXdlc29tZS5yb3RhdGUuY3NzIiAvPgogICAgPHN0eWxlPmh0bWwsIGJvZHkge3dpZHRoOiAxMDAlO2hlaWdodDogMTAwJTttYXJnaW46IDA7cGFkZGluZzogMDt9PC9zdHlsZT4KICAgIDxzdHlsZT4jbWFwIHtwb3NpdGlvbjphYnNvbHV0ZTt0b3A6MDtib3R0b206MDtyaWdodDowO2xlZnQ6MDt9PC9zdHlsZT4KICAgIAogICAgICAgICAgICA8c3R5bGU+ICNtYXBfMjRiNGJlM2ZlNmE0NDhkMTgyOTI0ZmM5NmI3N2VlNTggewogICAgICAgICAgICAgICAgcG9zaXRpb24gOiByZWxhdGl2ZTsKICAgICAgICAgICAgICAgIHdpZHRoIDogMTAwLjAlOwogICAgICAgICAgICAgICAgaGVpZ2h0OiAxMDAuMCU7CiAgICAgICAgICAgICAgICBsZWZ0OiAwLjAlOwogICAgICAgICAgICAgICAgdG9wOiAwLjAlOwogICAgICAgICAgICAgICAgfQogICAgICAgICAgICA8L3N0eWxlPgogICAgICAgIAo8L2hlYWQ+Cjxib2R5PiAgICAKICAgIAogICAgICAgICAgICA8ZGl2IGNsYXNzPSJmb2xpdW0tbWFwIiBpZD0ibWFwXzI0YjRiZTNmZTZhNDQ4ZDE4MjkyNGZjOTZiNzdlZTU4IiA+PC9kaXY+CiAgICAgICAgCjwvYm9keT4KPHNjcmlwdD4gICAgCiAgICAKCiAgICAgICAgICAgIAogICAgICAgICAgICAgICAgdmFyIHNvdXRoV2VzdCA9IEwubGF0TG5nKC05MCwgLTE4MCk7CiAgICAgICAgICAgICAgICB2YXIgbm9ydGhFYXN0ID0gTC5sYXRMbmcoOTAsIDE4MCk7CiAgICAgICAgICAgICAgICB2YXIgYm91bmRzID0gTC5sYXRMbmdCb3VuZHMoc291dGhXZXN0LCBub3J0aEVhc3QpOwogICAgICAgICAgICAKCiAgICAgICAgICAgIHZhciBtYXBfMjRiNGJlM2ZlNmE0NDhkMTgyOTI0ZmM5NmI3N2VlNTggPSBMLm1hcCgKICAgICAgICAgICAgICAgICAgICAgICAgICAgICAgICAgICdtYXBfMjRiNGJlM2ZlNmE0NDhkMTgyOTI0ZmM5NmI3N2VlNTgnLAogICAgICAgICAgICAgICAgICAgICAgICAgICAgICAgICAge2NlbnRlcjogWzM1LjM4MjQwNTEwNjM4Mjk3NiwxMzYuMDQwMTAwNDI1NTMxOV0sCiAgICAgICAgICAgICAgICAgICAgICAgICAgICAgICAgICB6b29tOiA1LAogICAgICAgICAgICAgICAgICAgICAgICAgICAgICAgICAgbWF4Qm91bmRzOiBib3VuZHMsCiAgICAgICAgICAgICAgICAgICAgICAgICAgICAgICAgICBsYXllcnM6IFtdLAogICAgICAgICAgICAgICAgICAgICAgICAgICAgICAgICAgd29ybGRDb3B5SnVtcDogZmFsc2UsCiAgICAgICAgICAgICAgICAgICAgICAgICAgICAgICAgICBjcnM6IEwuQ1JTLkVQU0czODU3CiAgICAgICAgICAgICAgICAgICAgICAgICAgICAgICAgIH0pOwogICAgICAgICAgICAKICAgICAgICAKICAgIAogICAgICAgICAgICB2YXIgdGlsZV9sYXllcl8xMDkzNTJjNTViMzA0NTAxOGJkN2ViMjAxMWQ4M2QzNCA9IEwudGlsZUxheWVyKAogICAgICAgICAgICAgICAgJ2h0dHBzOi8ve3N9LnRpbGUub3BlbnN0cmVldG1hcC5vcmcve3p9L3t4fS97eX0ucG5nJywKICAgICAgICAgICAgICAgIHsKICAgICAgICAgICAgICAgICAgICBtYXhab29tOiAxOCwKICAgICAgICAgICAgICAgICAgICBtaW5ab29tOiAxLAogICAgICAgICAgICAgICAgICAgIGNvbnRpbnVvdXNXb3JsZDogZmFsc2UsCiAgICAgICAgICAgICAgICAgICAgbm9XcmFwOiBmYWxzZSwKICAgICAgICAgICAgICAgICAgICBhdHRyaWJ1dGlvbjogJ0RhdGEgYnkgPGEgaHJlZj0iaHR0cDovL29wZW5zdHJlZXRtYXAub3JnIj5PcGVuU3RyZWV0TWFwPC9hPiwgdW5kZXIgPGEgaHJlZj0iaHR0cDovL3d3dy5vcGVuc3RyZWV0bWFwLm9yZy9jb3B5cmlnaHQiPk9EYkw8L2E+LicsCiAgICAgICAgICAgICAgICAgICAgZGV0ZWN0UmV0aW5hOiBmYWxzZQogICAgICAgICAgICAgICAgICAgIH0KICAgICAgICAgICAgICAgICkuYWRkVG8obWFwXzI0YjRiZTNmZTZhNDQ4ZDE4MjkyNGZjOTZiNzdlZTU4KTsKCiAgICAgICAgCiAgICAKCiAgICAgICAgICAgIHZhciBtYXJrZXJfNTgyMzdjOWQzNmQyNGI4ZGIwZjkyMGI1YjdkMmFmMjggPSBMLm1hcmtlcigKICAgICAgICAgICAgICAgIFs0My4wNjQxNywxNDEuMzQ2OTRdLAogICAgICAgICAgICAgICAgewogICAgICAgICAgICAgICAgICAgIGljb246IG5ldyBMLkljb24uRGVmYXVsdCgpCiAgICAgICAgICAgICAgICAgICAgfQogICAgICAgICAgICAgICAgKQogICAgICAgICAgICAgICAgLmFkZFRvKG1hcF8yNGI0YmUzZmU2YTQ0OGQxODI5MjRmYzk2Yjc3ZWU1OCk7CiAgICAgICAgICAgIAogICAgCgogICAgICAgICAgICB2YXIgbWFya2VyXzk2NmMyMDMwOTI2MjRkMmI4MGQ3MWE1MGM3MmI1YTQxID0gTC5tYXJrZXIoCiAgICAgICAgICAgICAgICBbNDAuODI0NDQsMTQwLjc0XSwKICAgICAgICAgICAgICAgIHsKICAgICAgICAgICAgICAgICAgICBpY29uOiBuZXcgTC5JY29uLkRlZmF1bHQoKQogICAgICAgICAgICAgICAgICAgIH0KICAgICAgICAgICAgICAgICkKICAgICAgICAgICAgICAgIC5hZGRUbyhtYXBfMjRiNGJlM2ZlNmE0NDhkMTgyOTI0ZmM5NmI3N2VlNTgpOwogICAgICAgICAgICAKICAgIAoKICAgICAgICAgICAgdmFyIG1hcmtlcl9lYzRiY2NjMTE2NzI0MTRhYjJhOGE0ZGMwNmI4NjdjMCA9IEwubWFya2VyKAogICAgICAgICAgICAgICAgWzM5LjcwMzYxLDE0MS4xNTI1XSwKICAgICAgICAgICAgICAgIHsKICAgICAgICAgICAgICAgICAgICBpY29uOiBuZXcgTC5JY29uLkRlZmF1bHQoKQogICAgICAgICAgICAgICAgICAgIH0KICAgICAgICAgICAgICAgICkKICAgICAgICAgICAgICAgIC5hZGRUbyhtYXBfMjRiNGJlM2ZlNmE0NDhkMTgyOTI0ZmM5NmI3N2VlNTgpOwogICAgICAgICAgICAKICAgIAoKICAgICAgICAgICAgdmFyIG1hcmtlcl8zY2M5NmRjOGE3Njg0OTZhODkxOTkxZmYwMDY3YmViZiA9IEwubWFya2VyKAogICAgICAgICAgICAgICAgWzM4LjI2ODg5LDE0MC44NzE5NF0sCiAgICAgICAgICAgICAgICB7CiAgICAgICAgICAgICAgICAgICAgaWNvbjogbmV3IEwuSWNvbi5EZWZhdWx0KCkKICAgICAgICAgICAgICAgICAgICB9CiAgICAgICAgICAgICAgICApCiAgICAgICAgICAgICAgICAuYWRkVG8obWFwXzI0YjRiZTNmZTZhNDQ4ZDE4MjkyNGZjOTZiNzdlZTU4KTsKICAgICAgICAgICAgCiAgICAKCiAgICAgICAgICAgIHZhciBtYXJrZXJfMmZhY2YzOTNhZjgwNDE2ZDllMjBiZjk2MDJlNjgxNzIgPSBMLm1hcmtlcigKICAgICAgICAgICAgICAgIFszOS43MTg2MSwxNDAuMTAyNV0sCiAgICAgICAgICAgICAgICB7CiAgICAgICAgICAgICAgICAgICAgaWNvbjogbmV3IEwuSWNvbi5EZWZhdWx0KCkKICAgICAgICAgICAgICAgICAgICB9CiAgICAgICAgICAgICAgICApCiAgICAgICAgICAgICAgICAuYWRkVG8obWFwXzI0YjRiZTNmZTZhNDQ4ZDE4MjkyNGZjOTZiNzdlZTU4KTsKICAgICAgICAgICAgCiAgICAKCiAgICAgICAgICAgIHZhciBtYXJrZXJfNzQwMjM0MWE3NWY3NDE4YWI5MzI3OWIwY2M1MmRlZTkgPSBMLm1hcmtlcigKICAgICAgICAgICAgICAgIFszOC4yNDA1NiwxNDAuMzYzMzNdLAogICAgICAgICAgICAgICAgewogICAgICAgICAgICAgICAgICAgIGljb246IG5ldyBMLkljb24uRGVmYXVsdCgpCiAgICAgICAgICAgICAgICAgICAgfQogICAgICAgICAgICAgICAgKQogICAgICAgICAgICAgICAgLmFkZFRvKG1hcF8yNGI0YmUzZmU2YTQ0OGQxODI5MjRmYzk2Yjc3ZWU1OCk7CiAgICAgICAgICAgIAogICAgCgogICAgICAgICAgICB2YXIgbWFya2VyXzkxYzE2ZTE2ZmY4NzQ3NzFiNmZlYmY1YzYyZDVhMzg0ID0gTC5tYXJrZXIoCiAgICAgICAgICAgICAgICBbMzcuNzUsMTQwLjQ2Nzc4XSwKICAgICAgICAgICAgICAgIHsKICAgICAgICAgICAgICAgICAgICBpY29uOiBuZXcgTC5JY29uLkRlZmF1bHQoKQogICAgICAgICAgICAgICAgICAgIH0KICAgICAgICAgICAgICAgICkKICAgICAgICAgICAgICAgIC5hZGRUbyhtYXBfMjRiNGJlM2ZlNmE0NDhkMTgyOTI0ZmM5NmI3N2VlNTgpOwogICAgICAgICAgICAKICAgIAoKICAgICAgICAgICAgdmFyIG1hcmtlcl8yNWZjYzAxYzM3MTU0NDZjODU0M2ZkZjczMGVkZDY4NSA9IEwubWFya2VyKAogICAgICAgICAgICAgICAgWzM2LjM0MTM5LDE0MC40NDY2N10sCiAgICAgICAgICAgICAgICB7CiAgICAgICAgICAgICAgICAgICAgaWNvbjogbmV3IEwuSWNvbi5EZWZhdWx0KCkKICAgICAgICAgICAgICAgICAgICB9CiAgICAgICAgICAgICAgICApCiAgICAgICAgICAgICAgICAuYWRkVG8obWFwXzI0YjRiZTNmZTZhNDQ4ZDE4MjkyNGZjOTZiNzdlZTU4KTsKICAgICAgICAgICAgCiAgICAKCiAgICAgICAgICAgIHZhciBtYXJrZXJfNDU0ZDVkOGNiODFkNGM3NTg5YmE3NmY0MTM1ZGJkZmMgPSBMLm1hcmtlcigKICAgICAgICAgICAgICAgIFszNi41NjU4MywxMzkuODgzNjFdLAogICAgICAgICAgICAgICAgewogICAgICAgICAgICAgICAgICAgIGljb246IG5ldyBMLkljb24uRGVmYXVsdCgpCiAgICAgICAgICAgICAgICAgICAgfQogICAgICAgICAgICAgICAgKQogICAgICAgICAgICAgICAgLmFkZFRvKG1hcF8yNGI0YmUzZmU2YTQ0OGQxODI5MjRmYzk2Yjc3ZWU1OCk7CiAgICAgICAgICAgIAogICAgCgogICAgICAgICAgICB2YXIgbWFya2VyXzM4OWRkMGMzY2JjZDQ2Mzc5MjJmZjY0NDIzZWQ2NzAyID0gTC5tYXJrZXIoCiAgICAgICAgICAgICAgICBbMzYuMzkxMTEsMTM5LjA2MDgzXSwKICAgICAgICAgICAgICAgIHsKICAgICAgICAgICAgICAgICAgICBpY29uOiBuZXcgTC5JY29uLkRlZmF1bHQoKQogICAgICAgICAgICAgICAgICAgIH0KICAgICAgICAgICAgICAgICkKICAgICAgICAgICAgICAgIC5hZGRUbyhtYXBfMjRiNGJlM2ZlNmE0NDhkMTgyOTI0ZmM5NmI3N2VlNTgpOwogICAgICAgICAgICAKICAgIAoKICAgICAgICAgICAgdmFyIG1hcmtlcl9kYjEwMTJiM2IwNzY0YzU5YjBkZTE0NWNkNThmYjE0ZCA9IEwubWFya2VyKAogICAgICAgICAgICAgICAgWzM1Ljg1Njk0LDEzOS42NDg4OV0sCiAgICAgICAgICAgICAgICB7CiAgICAgICAgICAgICAgICAgICAgaWNvbjogbmV3IEwuSWNvbi5EZWZhdWx0KCkKICAgICAgICAgICAgICAgICAgICB9CiAgICAgICAgICAgICAgICApCiAgICAgICAgICAgICAgICAuYWRkVG8obWFwXzI0YjRiZTNmZTZhNDQ4ZDE4MjkyNGZjOTZiNzdlZTU4KTsKICAgICAgICAgICAgCiAgICAKCiAgICAgICAgICAgIHZhciBtYXJrZXJfOWU2MDg1ZDIxZDUzNGY3YmJjNzQyNjY1YTYyM2M2N2YgPSBMLm1hcmtlcigKICAgICAgICAgICAgICAgIFszNS42MDQ3MiwxNDAuMTIzMzNdLAogICAgICAgICAgICAgICAgewogICAgICAgICAgICAgICAgICAgIGljb246IG5ldyBMLkljb24uRGVmYXVsdCgpCiAgICAgICAgICAgICAgICAgICAgfQogICAgICAgICAgICAgICAgKQogICAgICAgICAgICAgICAgLmFkZFRvKG1hcF8yNGI0YmUzZmU2YTQ0OGQxODI5MjRmYzk2Yjc3ZWU1OCk7CiAgICAgICAgICAgIAogICAgCgogICAgICAgICAgICB2YXIgbWFya2VyXzBlNjY0ZTM3MGI4ZDQ4Yzg5YjY2NDQ1MjhjZWEzZDViID0gTC5tYXJrZXIoCiAgICAgICAgICAgICAgICBbMzUuNjg5NDQsMTM5LjY5MTY3XSwKICAgICAgICAgICAgICAgIHsKICAgICAgICAgICAgICAgICAgICBpY29uOiBuZXcgTC5JY29uLkRlZmF1bHQoKQogICAgICAgICAgICAgICAgICAgIH0KICAgICAgICAgICAgICAgICkKICAgICAgICAgICAgICAgIC5hZGRUbyhtYXBfMjRiNGJlM2ZlNmE0NDhkMTgyOTI0ZmM5NmI3N2VlNTgpOwogICAgICAgICAgICAKICAgIAoKICAgICAgICAgICAgdmFyIG1hcmtlcl85ZDJhOTk2MjgxNzg0MjU2OWU0ZGEyYmMzZTExZDk5ZCA9IEwubWFya2VyKAogICAgICAgICAgICAgICAgWzM1LjQ0Nzc4LDEzOS42NDI1XSwKICAgICAgICAgICAgICAgIHsKICAgICAgICAgICAgICAgICAgICBpY29uOiBuZXcgTC5JY29uLkRlZmF1bHQoKQogICAgICAgICAgICAgICAgICAgIH0KICAgICAgICAgICAgICAgICkKICAgICAgICAgICAgICAgIC5hZGRUbyhtYXBfMjRiNGJlM2ZlNmE0NDhkMTgyOTI0ZmM5NmI3N2VlNTgpOwogICAgICAgICAgICAKICAgIAoKICAgICAgICAgICAgdmFyIG1hcmtlcl9kODZlMDkzZTVkMzA0NGQyODAyYTFkNmNiOTUyNmU1NSA9IEwubWFya2VyKAogICAgICAgICAgICAgICAgWzM3LjkwMjIyLDEzOS4wMjM2MV0sCiAgICAgICAgICAgICAgICB7CiAgICAgICAgICAgICAgICAgICAgaWNvbjogbmV3IEwuSWNvbi5EZWZhdWx0KCkKICAgICAgICAgICAgICAgICAgICB9CiAgICAgICAgICAgICAgICApCiAgICAgICAgICAgICAgICAuYWRkVG8obWFwXzI0YjRiZTNmZTZhNDQ4ZDE4MjkyNGZjOTZiNzdlZTU4KTsKICAgICAgICAgICAgCiAgICAKCiAgICAgICAgICAgIHZhciBtYXJrZXJfMzI4Y2VjZTM3MGUzNGMwOWFmZTEwZDhkZDhhYzI2NTggPSBMLm1hcmtlcigKICAgICAgICAgICAgICAgIFszNi42OTUyOCwxMzcuMjExMzldLAogICAgICAgICAgICAgICAgewogICAgICAgICAgICAgICAgICAgIGljb246IG5ldyBMLkljb24uRGVmYXVsdCgpCiAgICAgICAgICAgICAgICAgICAgfQogICAgICAgICAgICAgICAgKQogICAgICAgICAgICAgICAgLmFkZFRvKG1hcF8yNGI0YmUzZmU2YTQ0OGQxODI5MjRmYzk2Yjc3ZWU1OCk7CiAgICAgICAgICAgIAogICAgCgogICAgICAgICAgICB2YXIgbWFya2VyXzZhYmU1NmI0NzVmZDRjZDhiMTc5YjU3MDU0NDQzMWVjID0gTC5tYXJrZXIoCiAgICAgICAgICAgICAgICBbMzYuNTk0NDQsMTM2LjYyNTU2XSwKICAgICAgICAgICAgICAgIHsKICAgICAgICAgICAgICAgICAgICBpY29uOiBuZXcgTC5JY29uLkRlZmF1bHQoKQogICAgICAgICAgICAgICAgICAgIH0KICAgICAgICAgICAgICAgICkKICAgICAgICAgICAgICAgIC5hZGRUbyhtYXBfMjRiNGJlM2ZlNmE0NDhkMTgyOTI0ZmM5NmI3N2VlNTgpOwogICAgICAgICAgICAKICAgIAoKICAgICAgICAgICAgdmFyIG1hcmtlcl8wYzE3MTU0N2VjY2I0OTI5YTE4NzlhNWYxZDNmMzAzMyA9IEwubWFya2VyKAogICAgICAgICAgICAgICAgWzM2LjA2NTI4LDEzNi4yMjE5NF0sCiAgICAgICAgICAgICAgICB7CiAgICAgICAgICAgICAgICAgICAgaWNvbjogbmV3IEwuSWNvbi5EZWZhdWx0KCkKICAgICAgICAgICAgICAgICAgICB9CiAgICAgICAgICAgICAgICApCiAgICAgICAgICAgICAgICAuYWRkVG8obWFwXzI0YjRiZTNmZTZhNDQ4ZDE4MjkyNGZjOTZiNzdlZTU4KTsKICAgICAgICAgICAgCiAgICAKCiAgICAgICAgICAgIHZhciBtYXJrZXJfYzE0MTYyZjM3YzQ4NDgxY2EzNjQ4YWI2ODc5MmMwOTcgPSBMLm1hcmtlcigKICAgICAgICAgICAgICAgIFszNS42NjM4OSwxMzguNTY4MzNdLAogICAgICAgICAgICAgICAgewogICAgICAgICAgICAgICAgICAgIGljb246IG5ldyBMLkljb24uRGVmYXVsdCgpCiAgICAgICAgICAgICAgICAgICAgfQogICAgICAgICAgICAgICAgKQogICAgICAgICAgICAgICAgLmFkZFRvKG1hcF8yNGI0YmUzZmU2YTQ0OGQxODI5MjRmYzk2Yjc3ZWU1OCk7CiAgICAgICAgICAgIAogICAgCgogICAgICAgICAgICB2YXIgbWFya2VyXzk5NGJjMDM0NGJkNzQ3MGFiODAzNzZmMDc1ZWJmMzNjID0gTC5tYXJrZXIoCiAgICAgICAgICAgICAgICBbMzYuNjUxMzksMTM4LjE4MTExXSwKICAgICAgICAgICAgICAgIHsKICAgICAgICAgICAgICAgICAgICBpY29uOiBuZXcgTC5JY29uLkRlZmF1bHQoKQogICAgICAgICAgICAgICAgICAgIH0KICAgICAgICAgICAgICAgICkKICAgICAgICAgICAgICAgIC5hZGRUbyhtYXBfMjRiNGJlM2ZlNmE0NDhkMTgyOTI0ZmM5NmI3N2VlNTgpOwogICAgICAgICAgICAKICAgIAoKICAgICAgICAgICAgdmFyIG1hcmtlcl9iZWU2MThhYjkyMzE0YjU5YjU0NWM3NGQ0OWI4NDNjZSA9IEwubWFya2VyKAogICAgICAgICAgICAgICAgWzM1LjM5MTExLDEzNi43MjIyMl0sCiAgICAgICAgICAgICAgICB7CiAgICAgICAgICAgICAgICAgICAgaWNvbjogbmV3IEwuSWNvbi5EZWZhdWx0KCkKICAgICAgICAgICAgICAgICAgICB9CiAgICAgICAgICAgICAgICApCiAgICAgICAgICAgICAgICAuYWRkVG8obWFwXzI0YjRiZTNmZTZhNDQ4ZDE4MjkyNGZjOTZiNzdlZTU4KTsKICAgICAgICAgICAgCiAgICAKCiAgICAgICAgICAgIHZhciBtYXJrZXJfYjM5MzVkYTg2MTE0NDNjZGE5NTljNzE3ZjMxNWY0ZjkgPSBMLm1hcmtlcigKICAgICAgICAgICAgICAgIFszNC45NzY5NCwxMzguMzgzMDZdLAogICAgICAgICAgICAgICAgewogICAgICAgICAgICAgICAgICAgIGljb246IG5ldyBMLkljb24uRGVmYXVsdCgpCiAgICAgICAgICAgICAgICAgICAgfQogICAgICAgICAgICAgICAgKQogICAgICAgICAgICAgICAgLmFkZFRvKG1hcF8yNGI0YmUzZmU2YTQ0OGQxODI5MjRmYzk2Yjc3ZWU1OCk7CiAgICAgICAgICAgIAogICAgCgogICAgICAgICAgICB2YXIgbWFya2VyXzg5Y2JlMGRkNGEyZDRjMmU4Zjk3Mjg3NTFmZGM0MWM1ID0gTC5tYXJrZXIoCiAgICAgICAgICAgICAgICBbMzUuMTgwMjgsMTM2LjkwNjY3XSwKICAgICAgICAgICAgICAgIHsKICAgICAgICAgICAgICAgICAgICBpY29uOiBuZXcgTC5JY29uLkRlZmF1bHQoKQogICAgICAgICAgICAgICAgICAgIH0KICAgICAgICAgICAgICAgICkKICAgICAgICAgICAgICAgIC5hZGRUbyhtYXBfMjRiNGJlM2ZlNmE0NDhkMTgyOTI0ZmM5NmI3N2VlNTgpOwogICAgICAgICAgICAKICAgIAoKICAgICAgICAgICAgdmFyIG1hcmtlcl81ZDI4ZjZmMjE1Zjg0NzcwYWZlM2UxNjc3MDdmNjYyNiA9IEwubWFya2VyKAogICAgICAgICAgICAgICAgWzM0LjczMDI4LDEzNi41MDg2MV0sCiAgICAgICAgICAgICAgICB7CiAgICAgICAgICAgICAgICAgICAgaWNvbjogbmV3IEwuSWNvbi5EZWZhdWx0KCkKICAgICAgICAgICAgICAgICAgICB9CiAgICAgICAgICAgICAgICApCiAgICAgICAgICAgICAgICAuYWRkVG8obWFwXzI0YjRiZTNmZTZhNDQ4ZDE4MjkyNGZjOTZiNzdlZTU4KTsKICAgICAgICAgICAgCiAgICAKCiAgICAgICAgICAgIHZhciBtYXJrZXJfNTA2ZTcxMjNkYzU1NDEzNzg0NmM5NzFhOTU5ZTY3ZDcgPSBMLm1hcmtlcigKICAgICAgICAgICAgICAgIFszNS4wMDQ0NCwxMzUuODY4MzNdLAogICAgICAgICAgICAgICAgewogICAgICAgICAgICAgICAgICAgIGljb246IG5ldyBMLkljb24uRGVmYXVsdCgpCiAgICAgICAgICAgICAgICAgICAgfQogICAgICAgICAgICAgICAgKQogICAgICAgICAgICAgICAgLmFkZFRvKG1hcF8yNGI0YmUzZmU2YTQ0OGQxODI5MjRmYzk2Yjc3ZWU1OCk7CiAgICAgICAgICAgIAogICAgCgogICAgICAgICAgICB2YXIgbWFya2VyX2VlN2FlNDBjZTE2NzQ2ZjFhZjY1ZmMxZGM5ZDBmMWZhID0gTC5tYXJrZXIoCiAgICAgICAgICAgICAgICBbMzUuMDIxMzksMTM1Ljc1NTU2XSwKICAgICAgICAgICAgICAgIHsKICAgICAgICAgICAgICAgICAgICBpY29uOiBuZXcgTC5JY29uLkRlZmF1bHQoKQogICAgICAgICAgICAgICAgICAgIH0KICAgICAgICAgICAgICAgICkKICAgICAgICAgICAgICAgIC5hZGRUbyhtYXBfMjRiNGJlM2ZlNmE0NDhkMTgyOTI0ZmM5NmI3N2VlNTgpOwogICAgICAgICAgICAKICAgIAoKICAgICAgICAgICAgdmFyIG1hcmtlcl9lMTdjMDRhNWJhNTY0NTNiODk4NzM2NzkxYjI3NTBlMyA9IEwubWFya2VyKAogICAgICAgICAgICAgICAgWzM0LjY4NjM5LDEzNS41Ml0sCiAgICAgICAgICAgICAgICB7CiAgICAgICAgICAgICAgICAgICAgaWNvbjogbmV3IEwuSWNvbi5EZWZhdWx0KCkKICAgICAgICAgICAgICAgICAgICB9CiAgICAgICAgICAgICAgICApCiAgICAgICAgICAgICAgICAuYWRkVG8obWFwXzI0YjRiZTNmZTZhNDQ4ZDE4MjkyNGZjOTZiNzdlZTU4KTsKICAgICAgICAgICAgCiAgICAKCiAgICAgICAgICAgIHZhciBtYXJrZXJfOGQyMmVhNzY1YzA3NGE4OGE0NTkyNjAyYjcwNjAyNzAgPSBMLm1hcmtlcigKICAgICAgICAgICAgICAgIFszNC42OTEzOSwxMzUuMTgzMDZdLAogICAgICAgICAgICAgICAgewogICAgICAgICAgICAgICAgICAgIGljb246IG5ldyBMLkljb24uRGVmYXVsdCgpCiAgICAgICAgICAgICAgICAgICAgfQogICAgICAgICAgICAgICAgKQogICAgICAgICAgICAgICAgLmFkZFRvKG1hcF8yNGI0YmUzZmU2YTQ0OGQxODI5MjRmYzk2Yjc3ZWU1OCk7CiAgICAgICAgICAgIAogICAgCgogICAgICAgICAgICB2YXIgbWFya2VyX2Y1ZjM1MGZkOTM4MDQ3Zjk4MWVjMjFjOTg2MDA1NDhlID0gTC5tYXJrZXIoCiAgICAgICAgICAgICAgICBbMzQuNjg1MjgsMTM1LjgzMjc4XSwKICAgICAgICAgICAgICAgIHsKICAgICAgICAgICAgICAgICAgICBpY29uOiBuZXcgTC5JY29uLkRlZmF1bHQoKQogICAgICAgICAgICAgICAgICAgIH0KICAgICAgICAgICAgICAgICkKICAgICAgICAgICAgICAgIC5hZGRUbyhtYXBfMjRiNGJlM2ZlNmE0NDhkMTgyOTI0ZmM5NmI3N2VlNTgpOwogICAgICAgICAgICAKICAgIAoKICAgICAgICAgICAgdmFyIG1hcmtlcl84YTRhYzJkOGFiMzk0MWQ0YmM1MzJkYThkYTNlYWVjMiA9IEwubWFya2VyKAogICAgICAgICAgICAgICAgWzM0LjIyNjExLDEzNS4xNjc1XSwKICAgICAgICAgICAgICAgIHsKICAgICAgICAgICAgICAgICAgICBpY29uOiBuZXcgTC5JY29uLkRlZmF1bHQoKQogICAgICAgICAgICAgICAgICAgIH0KICAgICAgICAgICAgICAgICkKICAgICAgICAgICAgICAgIC5hZGRUbyhtYXBfMjRiNGJlM2ZlNmE0NDhkMTgyOTI0ZmM5NmI3N2VlNTgpOwogICAgICAgICAgICAKICAgIAoKICAgICAgICAgICAgdmFyIG1hcmtlcl9lZmY4NmFlNjM5M2M0MzEzODVjMzllYzIzZGY1OGFjNyA9IEwubWFya2VyKAogICAgICAgICAgICAgICAgWzM1LjUwMzYxLDEzNC4yMzgzM10sCiAgICAgICAgICAgICAgICB7CiAgICAgICAgICAgICAgICAgICAgaWNvbjogbmV3IEwuSWNvbi5EZWZhdWx0KCkKICAgICAgICAgICAgICAgICAgICB9CiAgICAgICAgICAgICAgICApCiAgICAgICAgICAgICAgICAuYWRkVG8obWFwXzI0YjRiZTNmZTZhNDQ4ZDE4MjkyNGZjOTZiNzdlZTU4KTsKICAgICAgICAgICAgCiAgICAKCiAgICAgICAgICAgIHZhciBtYXJrZXJfMTdmMmU4OThiMWNhNDBjY2E2YzNjYjA0YzhlOWJkMmEgPSBMLm1hcmtlcigKICAgICAgICAgICAgICAgIFszNS40NzIyMiwxMzMuMDUwNTZdLAogICAgICAgICAgICAgICAgewogICAgICAgICAgICAgICAgICAgIGljb246IG5ldyBMLkljb24uRGVmYXVsdCgpCiAgICAgICAgICAgICAgICAgICAgfQogICAgICAgICAgICAgICAgKQogICAgICAgICAgICAgICAgLmFkZFRvKG1hcF8yNGI0YmUzZmU2YTQ0OGQxODI5MjRmYzk2Yjc3ZWU1OCk7CiAgICAgICAgICAgIAogICAgCgogICAgICAgICAgICB2YXIgbWFya2VyXzNhZTEyY2M1MzI3MTQ2MTg4ZTRjMTJjMmU2MWE0YzQzID0gTC5tYXJrZXIoCiAgICAgICAgICAgICAgICBbMzQuNjYxNjcsMTMzLjkzNV0sCiAgICAgICAgICAgICAgICB7CiAgICAgICAgICAgICAgICAgICAgaWNvbjogbmV3IEwuSWNvbi5EZWZhdWx0KCkKICAgICAgICAgICAgICAgICAgICB9CiAgICAgICAgICAgICAgICApCiAgICAgICAgICAgICAgICAuYWRkVG8obWFwXzI0YjRiZTNmZTZhNDQ4ZDE4MjkyNGZjOTZiNzdlZTU4KTsKICAgICAgICAgICAgCiAgICAKCiAgICAgICAgICAgIHZhciBtYXJrZXJfN2E0NDVlOGE5MWU3NDU0ZGI1MTJkOTU4ZDE3NDRiMDQgPSBMLm1hcmtlcigKICAgICAgICAgICAgICAgIFszNC4zOTYzOSwxMzIuNDU5NDRdLAogICAgICAgICAgICAgICAgewogICAgICAgICAgICAgICAgICAgIGljb246IG5ldyBMLkljb24uRGVmYXVsdCgpCiAgICAgICAgICAgICAgICAgICAgfQogICAgICAgICAgICAgICAgKQogICAgICAgICAgICAgICAgLmFkZFRvKG1hcF8yNGI0YmUzZmU2YTQ0OGQxODI5MjRmYzk2Yjc3ZWU1OCk7CiAgICAgICAgICAgIAogICAgCgogICAgICAgICAgICB2YXIgbWFya2VyXzA4YzBiNjIzZGFhYzRlYjg5MjQyZTk5MmFkMTM2ZTZiID0gTC5tYXJrZXIoCiAgICAgICAgICAgICAgICBbMzQuMTg1ODMsMTMxLjQ3MTM5XSwKICAgICAgICAgICAgICAgIHsKICAgICAgICAgICAgICAgICAgICBpY29uOiBuZXcgTC5JY29uLkRlZmF1bHQoKQogICAgICAgICAgICAgICAgICAgIH0KICAgICAgICAgICAgICAgICkKICAgICAgICAgICAgICAgIC5hZGRUbyhtYXBfMjRiNGJlM2ZlNmE0NDhkMTgyOTI0ZmM5NmI3N2VlNTgpOwogICAgICAgICAgICAKICAgIAoKICAgICAgICAgICAgdmFyIG1hcmtlcl9kNzI2YTk4MDVkYWI0ZTZlOTQ3NTY5NTgyMDM2ZWI5ZSA9IEwubWFya2VyKAogICAgICAgICAgICAgICAgWzM0LjA2NTgzLDEzNC41NTk0NF0sCiAgICAgICAgICAgICAgICB7CiAgICAgICAgICAgICAgICAgICAgaWNvbjogbmV3IEwuSWNvbi5EZWZhdWx0KCkKICAgICAgICAgICAgICAgICAgICB9CiAgICAgICAgICAgICAgICApCiAgICAgICAgICAgICAgICAuYWRkVG8obWFwXzI0YjRiZTNmZTZhNDQ4ZDE4MjkyNGZjOTZiNzdlZTU4KTsKICAgICAgICAgICAgCiAgICAKCiAgICAgICAgICAgIHZhciBtYXJrZXJfMmE2ZDE4ZjFkOTRhNGE2Y2E1MGQ0NmNkYjNlYjJkYzYgPSBMLm1hcmtlcigKICAgICAgICAgICAgICAgIFszNC4zNDAyOCwxMzQuMDQzMzNdLAogICAgICAgICAgICAgICAgewogICAgICAgICAgICAgICAgICAgIGljb246IG5ldyBMLkljb24uRGVmYXVsdCgpCiAgICAgICAgICAgICAgICAgICAgfQogICAgICAgICAgICAgICAgKQogICAgICAgICAgICAgICAgLmFkZFRvKG1hcF8yNGI0YmUzZmU2YTQ0OGQxODI5MjRmYzk2Yjc3ZWU1OCk7CiAgICAgICAgICAgIAogICAgCgogICAgICAgICAgICB2YXIgbWFya2VyXzc3YWFhZGNiOTAyODQxYmRiNmVhZDA3ZjAwZjBlNGFkID0gTC5tYXJrZXIoCiAgICAgICAgICAgICAgICBbMzMuODQxNjcsMTMyLjc2NjExXSwKICAgICAgICAgICAgICAgIHsKICAgICAgICAgICAgICAgICAgICBpY29uOiBuZXcgTC5JY29uLkRlZmF1bHQoKQogICAgICAgICAgICAgICAgICAgIH0KICAgICAgICAgICAgICAgICkKICAgICAgICAgICAgICAgIC5hZGRUbyhtYXBfMjRiNGJlM2ZlNmE0NDhkMTgyOTI0ZmM5NmI3N2VlNTgpOwogICAgICAgICAgICAKICAgIAoKICAgICAgICAgICAgdmFyIG1hcmtlcl80ZGQ4MjJkZmUxZWE0OTQyYWQwNGExNjZlM2Y4ZTk2MSA9IEwubWFya2VyKAogICAgICAgICAgICAgICAgWzMzLjU1OTcyLDEzMy41MzExMV0sCiAgICAgICAgICAgICAgICB7CiAgICAgICAgICAgICAgICAgICAgaWNvbjogbmV3IEwuSWNvbi5EZWZhdWx0KCkKICAgICAgICAgICAgICAgICAgICB9CiAgICAgICAgICAgICAgICApCiAgICAgICAgICAgICAgICAuYWRkVG8obWFwXzI0YjRiZTNmZTZhNDQ4ZDE4MjkyNGZjOTZiNzdlZTU4KTsKICAgICAgICAgICAgCiAgICAKCiAgICAgICAgICAgIHZhciBtYXJrZXJfOTAyOWQ2OTIxZTcxNGNlZGI4NTA4NjQxYjQ1ODI0OWMgPSBMLm1hcmtlcigKICAgICAgICAgICAgICAgIFszMy42MDYzOSwxMzAuNDE4MDZdLAogICAgICAgICAgICAgICAgewogICAgICAgICAgICAgICAgICAgIGljb246IG5ldyBMLkljb24uRGVmYXVsdCgpCiAgICAgICAgICAgICAgICAgICAgfQogICAgICAgICAgICAgICAgKQogICAgICAgICAgICAgICAgLmFkZFRvKG1hcF8yNGI0YmUzZmU2YTQ0OGQxODI5MjRmYzk2Yjc3ZWU1OCk7CiAgICAgICAgICAgIAogICAgCgogICAgICAgICAgICB2YXIgbWFya2VyX2Y2N2UyYmU2ODVkZDQwNTRhMTZlNTA4OGUwMzc4NmUyID0gTC5tYXJrZXIoCiAgICAgICAgICAgICAgICBbMzMuMjQ5NDQsMTMwLjI5ODg5XSwKICAgICAgICAgICAgICAgIHsKICAgICAgICAgICAgICAgICAgICBpY29uOiBuZXcgTC5JY29uLkRlZmF1bHQoKQogICAgICAgICAgICAgICAgICAgIH0KICAgICAgICAgICAgICAgICkKICAgICAgICAgICAgICAgIC5hZGRUbyhtYXBfMjRiNGJlM2ZlNmE0NDhkMTgyOTI0ZmM5NmI3N2VlNTgpOwogICAgICAgICAgICAKICAgIAoKICAgICAgICAgICAgdmFyIG1hcmtlcl9hZDI5NzZhMjU1YjE0MjYzOWM5M2NkMzQwYTNlZDA0MSA9IEwubWFya2VyKAogICAgICAgICAgICAgICAgWzMyLjc0NDcyLDEyOS44NzM2MV0sCiAgICAgICAgICAgICAgICB7CiAgICAgICAgICAgICAgICAgICAgaWNvbjogbmV3IEwuSWNvbi5EZWZhdWx0KCkKICAgICAgICAgICAgICAgICAgICB9CiAgICAgICAgICAgICAgICApCiAgICAgICAgICAgICAgICAuYWRkVG8obWFwXzI0YjRiZTNmZTZhNDQ4ZDE4MjkyNGZjOTZiNzdlZTU4KTsKICAgICAgICAgICAgCiAgICAKCiAgICAgICAgICAgIHZhciBtYXJrZXJfYjUwZTdkNWVkZmQ4NDAzMDkzNzEwZjU4NDQ4MDRiNDIgPSBMLm1hcmtlcigKICAgICAgICAgICAgICAgIFszMi43ODk3MiwxMzAuNzQxNjddLAogICAgICAgICAgICAgICAgewogICAgICAgICAgICAgICAgICAgIGljb246IG5ldyBMLkljb24uRGVmYXVsdCgpCiAgICAgICAgICAgICAgICAgICAgfQogICAgICAgICAgICAgICAgKQogICAgICAgICAgICAgICAgLmFkZFRvKG1hcF8yNGI0YmUzZmU2YTQ0OGQxODI5MjRmYzk2Yjc3ZWU1OCk7CiAgICAgICAgICAgIAogICAgCgogICAgICAgICAgICB2YXIgbWFya2VyXzMxNTE5MjAwZjlmOTRlZGFhZmIyNTNiYmU0N2M4NmE4ID0gTC5tYXJrZXIoCiAgICAgICAgICAgICAgICBbMzMuMjM4MDYsMTMxLjYxMjVdLAogICAgICAgICAgICAgICAgewogICAgICAgICAgICAgICAgICAgIGljb246IG5ldyBMLkljb24uRGVmYXVsdCgpCiAgICAgICAgICAgICAgICAgICAgfQogICAgICAgICAgICAgICAgKQogICAgICAgICAgICAgICAgLmFkZFRvKG1hcF8yNGI0YmUzZmU2YTQ0OGQxODI5MjRmYzk2Yjc3ZWU1OCk7CiAgICAgICAgICAgIAogICAgCgogICAgICAgICAgICB2YXIgbWFya2VyXzAyY2ExZDgyZWM3ZjQ2ODdhYzljYjM5NjgyZmQ5OTM3ID0gTC5tYXJrZXIoCiAgICAgICAgICAgICAgICBbMzEuOTExMTEsMTMxLjQyMzg5XSwKICAgICAgICAgICAgICAgIHsKICAgICAgICAgICAgICAgICAgICBpY29uOiBuZXcgTC5JY29uLkRlZmF1bHQoKQogICAgICAgICAgICAgICAgICAgIH0KICAgICAgICAgICAgICAgICkKICAgICAgICAgICAgICAgIC5hZGRUbyhtYXBfMjRiNGJlM2ZlNmE0NDhkMTgyOTI0ZmM5NmI3N2VlNTgpOwogICAgICAgICAgICAKICAgIAoKICAgICAgICAgICAgdmFyIG1hcmtlcl85NjZhNzhhNGExNWY0YTdkOTcwZDA4NTJjYjVjNTdkNSA9IEwubWFya2VyKAogICAgICAgICAgICAgICAgWzMxLjU2MDI4LDEzMC41NTgwNl0sCiAgICAgICAgICAgICAgICB7CiAgICAgICAgICAgICAgICAgICAgaWNvbjogbmV3IEwuSWNvbi5EZWZhdWx0KCkKICAgICAgICAgICAgICAgICAgICB9CiAgICAgICAgICAgICAgICApCiAgICAgICAgICAgICAgICAuYWRkVG8obWFwXzI0YjRiZTNmZTZhNDQ4ZDE4MjkyNGZjOTZiNzdlZTU4KTsKICAgICAgICAgICAgCiAgICAKCiAgICAgICAgICAgIHZhciBtYXJrZXJfYzcwNjVmNGI4N2ZmNGJhOGEwMGYwNTFmOWU0MjZkZDQgPSBMLm1hcmtlcigKICAgICAgICAgICAgICAgIFsyNi4yMTI1LDEyNy42ODExMV0sCiAgICAgICAgICAgICAgICB7CiAgICAgICAgICAgICAgICAgICAgaWNvbjogbmV3IEwuSWNvbi5EZWZhdWx0KCkKICAgICAgICAgICAgICAgICAgICB9CiAgICAgICAgICAgICAgICApCiAgICAgICAgICAgICAgICAuYWRkVG8obWFwXzI0YjRiZTNmZTZhNDQ4ZDE4MjkyNGZjOTZiNzdlZTU4KTsKICAgICAgICAgICAgCjwvc2NyaXB0Pg==\" style=\"position:absolute;width:100%;height:100%;left:0;top:0;border:none !important;\" allowfullscreen webkitallowfullscreen mozallowfullscreen></iframe></div></div>"
      ],
      "text/plain": [
       "<folium.folium.Map at 0x10d4eb630>"
      ]
     },
     "execution_count": 21,
     "metadata": {},
     "output_type": "execute_result"
    }
   ],
   "source": [
    "#マーカー追加していく\n",
    "for i in range(0,len(coordinates)):\n",
    "\n",
    "    folium.Marker(coordinates[i],\n",
    "                 ).add_to(todohuken_map)\n",
    "\n",
    "todohuken_map"
   ]
  },
  {
   "cell_type": "markdown",
   "metadata": {},
   "source": [
    "### 県庁所在地の集まり具合をヒートマップ化"
   ]
  },
  {
   "cell_type": "code",
   "execution_count": 22,
   "metadata": {},
   "outputs": [
    {
     "data": {
      "text/html": [
       "<div style=\"width:100%;\"><div style=\"position:relative;width:100%;height:0;padding-bottom:60%;\"><iframe src=\"data:text/html;charset=utf-8;base64,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\" style=\"position:absolute;width:100%;height:100%;left:0;top:0;border:none !important;\" allowfullscreen webkitallowfullscreen mozallowfullscreen></iframe></div></div>"
      ],
      "text/plain": [
       "<folium.folium.Map at 0x10e34efd0>"
      ]
     },
     "execution_count": 22,
     "metadata": {},
     "output_type": "execute_result"
    }
   ],
   "source": [
    "from folium.plugins import HeatMap\n",
    "\n",
    "# initialize map\n",
    "todohuken_map = folium.Map(location=[todohuken_data_geo['緯度'].mean(), todohuken_data_geo['経度'].mean()], zoom_start=5)\n",
    "\n",
    "# add heat\n",
    "todohuken_map.add_child(HeatMap(coordinates))\n",
    "todohuken_map"
   ]
  },
  {
   "cell_type": "markdown",
   "metadata": {},
   "source": [
    "### 人口増をヒートマップ化"
   ]
  },
  {
   "cell_type": "code",
   "execution_count": 23,
   "metadata": {
    "collapsed": true
   },
   "outputs": [],
   "source": [
    "coordinates_plus = []\n",
    "\n",
    "keido = list(todohuken_data_geo['経度'])\n",
    "ido = list(todohuken_data_geo['緯度'])\n",
    "increace = list(todohuken_data_geo['increace'])\n",
    "                \n",
    "for k, i, ic in zip(keido, ido, increace):\n",
    "    coordinates_plus.append((i, k, float(ic)))"
   ]
  },
  {
   "cell_type": "code",
   "execution_count": 24,
   "metadata": {},
   "outputs": [
    {
     "data": {
      "text/html": [
       "<div style=\"width:100%;\"><div style=\"position:relative;width:100%;height:0;padding-bottom:60%;\"><iframe src=\"data:text/html;charset=utf-8;base64,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\" style=\"position:absolute;width:100%;height:100%;left:0;top:0;border:none !important;\" allowfullscreen webkitallowfullscreen mozallowfullscreen></iframe></div></div>"
      ],
      "text/plain": [
       "<folium.folium.Map at 0x10e36fc50>"
      ]
     },
     "execution_count": 24,
     "metadata": {},
     "output_type": "execute_result"
    }
   ],
   "source": [
    "# initialize map\n",
    "todohuken_map = folium.Map(location=[todohuken_data_geo['緯度'].mean(), todohuken_data_geo['経度'].mean()], zoom_start=5)\n",
    "\n",
    "colormap = {0: 'blue', 200000: 'lime', 400000: 'red'}\n",
    "\n",
    "# add heat\n",
    "todohuken_map.add_child(HeatMap(coordinates_plus,  radius=12))\n",
    "todohuken_map"
   ]
  }
 ],
 "metadata": {
  "kernelspec": {
   "display_name": "Python 3",
   "language": "python",
   "name": "python3"
  },
  "language_info": {
   "codemirror_mode": {
    "name": "ipython",
    "version": 3
   },
   "file_extension": ".py",
   "mimetype": "text/x-python",
   "name": "python",
   "nbconvert_exporter": "python",
   "pygments_lexer": "ipython3",
   "version": "3.6.1"
  }
 },
 "nbformat": 4,
 "nbformat_minor": 2
}
