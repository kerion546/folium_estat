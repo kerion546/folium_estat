{
 "cells": [
  {
   "cell_type": "markdown",
   "metadata": {},
   "source": [
    "# E-statより人口増のヒートマップ"
   ]
  },
  {
   "cell_type": "markdown",
   "metadata": {},
   "source": [
    "## Estat使ってデータ整理"
   ]
  },
  {
   "cell_type": "code",
   "execution_count": 1,
   "metadata": {
    "collapsed": true
   },
   "outputs": [],
   "source": [
    "#E-stat のAPIの使い方参照\n",
    "appid = '98b76b778604e629e8a9f0c244f60cce7658a62f'\n",
    "statsdataid = '0003159141'\n",
    "paramid = '&cdCat01=054&cdCat02=004'\n",
    "url_estat = 'http://api.e-stat.go.jp/rest/2.0/app/json/getStatsData?appId={}&statsDataId={}{}'.format(appid, statsdataid, paramid)"
   ]
  },
  {
   "cell_type": "code",
   "execution_count": 2,
   "metadata": {},
   "outputs": [
    {
     "data": {
      "text/plain": [
       "{'GET_STATS_DATA': {'PARAMETER': {'DATA_FORMAT': 'J',\n",
       "   'LANG': 'J',\n",
       "   'METAGET_FLG': 'Y',\n",
       "   'NARROWING_COND': {'CODE_CAT01_SELECT': '054', 'CODE_CAT02_SELECT': '004'},\n",
       "   'START_POSITION': 1,\n",
       "   'STATS_DATA_ID': '0003159141'},\n",
       "  'RESULT': {'DATE': '2017-08-12T10:28:52.244+09:00',\n",
       "   'ERROR_MSG': '正常に終了しました。',\n",
       "   'STATUS': 0},\n",
       "  'STATISTICAL_DATA': {'CLASS_INF': {'CLASS_OBJ': [{'@id': 'cat01',\n",
       "      '@name': '推移2',\n",
       "      'CLASS': {'@code': '054', '@level': '1', '@name': '平成２８年'}},\n",
       "     {'@id': 'cat02',\n",
       "      '@name': '実数・移動率・日本人人口',\n",
       "      'CLASS': {'@code': '004', '@level': '1', '@name': '実数\\u3000転入超過'}},\n",
       "     {'@description': '・2013年（平成25年）7月結果の移動者（外国人含む）には，7月1日から7日までの外国人移動者は含んでいない。\\r\\n・移動者（外国人含む）について，2013年6月結果以前は該当数値がない。\\r\\n',\n",
       "      '@id': 'cat03',\n",
       "      '@name': '国籍',\n",
       "      'CLASS': {'@code': '61000', '@level': '1', '@name': '日本人移動者'}},\n",
       "     {'@id': 'area',\n",
       "      '@name': '全国・都道府県・大都市4',\n",
       "      'CLASS': [{'@code': '00000', '@level': '1', '@name': '全国'},\n",
       "       {'@code': '01000', '@level': '1', '@name': '北海道'},\n",
       "       {'@code': '02000', '@level': '1', '@name': '青森県'},\n",
       "       {'@code': '03000', '@level': '1', '@name': '岩手県'},\n",
       "       {'@code': '04000', '@level': '1', '@name': '宮城県'},\n",
       "       {'@code': '05000', '@level': '1', '@name': '秋田県'},\n",
       "       {'@code': '06000', '@level': '1', '@name': '山形県'},\n",
       "       {'@code': '07000', '@level': '1', '@name': '福島県'},\n",
       "       {'@code': '08000', '@level': '1', '@name': '茨城県'},\n",
       "       {'@code': '09000', '@level': '1', '@name': '栃木県'},\n",
       "       {'@code': '10000', '@level': '1', '@name': '群馬県'},\n",
       "       {'@code': '11000', '@level': '1', '@name': '埼玉県'},\n",
       "       {'@code': '12000', '@level': '1', '@name': '千葉県'},\n",
       "       {'@code': '13000', '@level': '1', '@name': '東京都'},\n",
       "       {'@code': '14000', '@level': '1', '@name': '神奈川県'},\n",
       "       {'@code': '15000', '@level': '1', '@name': '新潟県'},\n",
       "       {'@code': '16000', '@level': '1', '@name': '富山県'},\n",
       "       {'@code': '17000', '@level': '1', '@name': '石川県'},\n",
       "       {'@code': '18000', '@level': '1', '@name': '福井県'},\n",
       "       {'@code': '19000', '@level': '1', '@name': '山梨県'},\n",
       "       {'@code': '20000', '@level': '1', '@name': '長野県'},\n",
       "       {'@code': '21000', '@level': '1', '@name': '岐阜県'},\n",
       "       {'@code': '22000', '@level': '1', '@name': '静岡県'},\n",
       "       {'@code': '23000', '@level': '1', '@name': '愛知県'},\n",
       "       {'@code': '24000', '@level': '1', '@name': '三重県'},\n",
       "       {'@code': '25000', '@level': '1', '@name': '滋賀県'},\n",
       "       {'@code': '26000', '@level': '1', '@name': '京都府'},\n",
       "       {'@code': '27000', '@level': '1', '@name': '大阪府'},\n",
       "       {'@code': '28000', '@level': '1', '@name': '兵庫県'},\n",
       "       {'@code': '29000', '@level': '1', '@name': '奈良県'},\n",
       "       {'@code': '30000', '@level': '1', '@name': '和歌山県'},\n",
       "       {'@code': '31000', '@level': '1', '@name': '鳥取県'},\n",
       "       {'@code': '32000', '@level': '1', '@name': '島根県'},\n",
       "       {'@code': '33000', '@level': '1', '@name': '岡山県'},\n",
       "       {'@code': '34000', '@level': '1', '@name': '広島県'},\n",
       "       {'@code': '35000', '@level': '1', '@name': '山口県'},\n",
       "       {'@code': '36000', '@level': '1', '@name': '徳島県'},\n",
       "       {'@code': '37000', '@level': '1', '@name': '香川県'},\n",
       "       {'@code': '38000', '@level': '1', '@name': '愛媛県'},\n",
       "       {'@code': '39000', '@level': '1', '@name': '高知県'},\n",
       "       {'@code': '40000', '@level': '1', '@name': '福岡県'},\n",
       "       {'@code': '41000', '@level': '1', '@name': '佐賀県'},\n",
       "       {'@code': '42000', '@level': '1', '@name': '長崎県'},\n",
       "       {'@code': '43000', '@level': '1', '@name': '熊本県'},\n",
       "       {'@code': '44000', '@level': '1', '@name': '大分県'},\n",
       "       {'@code': '45000', '@level': '1', '@name': '宮崎県'},\n",
       "       {'@code': '46000', '@level': '1', '@name': '鹿児島県'},\n",
       "       {'@code': '47000', '@level': '1', '@name': '沖縄県'},\n",
       "       {'@code': '00416', '@level': '1', '@name': '21大都市計'},\n",
       "       {'@code': '01100', '@level': '1', '@name': '札幌市'},\n",
       "       {'@code': '04100', '@level': '1', '@name': '仙台市'},\n",
       "       {'@code': '11100', '@level': '1', '@name': 'さいたま市'},\n",
       "       {'@code': '12100', '@level': '1', '@name': '千葉市'},\n",
       "       {'@code': '13100', '@level': '1', '@name': '東京都特別区部'},\n",
       "       {'@code': '14100', '@level': '1', '@name': '横浜市'},\n",
       "       {'@code': '14130', '@level': '1', '@name': '川崎市'},\n",
       "       {'@code': '14150', '@level': '1', '@name': '相模原市'},\n",
       "       {'@code': '15100', '@level': '1', '@name': '新潟市'},\n",
       "       {'@code': '22100', '@level': '1', '@name': '静岡市'},\n",
       "       {'@code': '22130', '@level': '1', '@name': '浜松市'},\n",
       "       {'@code': '23100', '@level': '1', '@name': '名古屋市'},\n",
       "       {'@code': '26100', '@level': '1', '@name': '京都市'},\n",
       "       {'@code': '27100', '@level': '1', '@name': '大阪市'},\n",
       "       {'@code': '27140', '@level': '1', '@name': '堺市'},\n",
       "       {'@code': '28100', '@level': '1', '@name': '神戸市'},\n",
       "       {'@code': '33100', '@level': '1', '@name': '岡山市'},\n",
       "       {'@code': '34100', '@level': '1', '@name': '広島市'},\n",
       "       {'@code': '40100', '@level': '1', '@name': '北九州市'},\n",
       "       {'@code': '40130', '@level': '1', '@name': '福岡市'},\n",
       "       {'@code': '43100', '@level': '1', '@name': '熊本市'}]}]},\n",
       "   'DATA_INF': {'NOTE': [{'$': '調査していないため該当数値がないもの', '@char': '***'},\n",
       "     {'$': '定義上該当数値がないもの', '@char': '-'}],\n",
       "    'VALUE': [{'$': '0',\n",
       "      '@area': '00000',\n",
       "      '@cat01': '054',\n",
       "      '@cat02': '004',\n",
       "      '@cat03': '61000'},\n",
       "     {'$': '-6874',\n",
       "      '@area': '01000',\n",
       "      '@cat01': '054',\n",
       "      '@cat02': '004',\n",
       "      '@cat03': '61000'},\n",
       "     {'$': '-6323',\n",
       "      '@area': '02000',\n",
       "      '@cat01': '054',\n",
       "      '@cat02': '004',\n",
       "      '@cat03': '61000'},\n",
       "     {'$': '-3870',\n",
       "      '@area': '03000',\n",
       "      '@cat01': '054',\n",
       "      '@cat02': '004',\n",
       "      '@cat03': '61000'},\n",
       "     {'$': '-483',\n",
       "      '@area': '04000',\n",
       "      '@cat01': '054',\n",
       "      '@cat02': '004',\n",
       "      '@cat03': '61000'},\n",
       "     {'$': '-4398',\n",
       "      '@area': '05000',\n",
       "      '@cat01': '054',\n",
       "      '@cat02': '004',\n",
       "      '@cat03': '61000'},\n",
       "     {'$': '-3639',\n",
       "      '@area': '06000',\n",
       "      '@cat01': '054',\n",
       "      '@cat02': '004',\n",
       "      '@cat03': '61000'},\n",
       "     {'$': '-5839',\n",
       "      '@area': '07000',\n",
       "      '@cat01': '054',\n",
       "      '@cat02': '004',\n",
       "      '@cat03': '61000'},\n",
       "     {'$': '-3709',\n",
       "      '@area': '08000',\n",
       "      '@cat01': '054',\n",
       "      '@cat02': '004',\n",
       "      '@cat03': '61000'},\n",
       "     {'$': '-2988',\n",
       "      '@area': '09000',\n",
       "      '@cat01': '054',\n",
       "      '@cat02': '004',\n",
       "      '@cat03': '61000'},\n",
       "     {'$': '-2736',\n",
       "      '@area': '10000',\n",
       "      '@cat01': '054',\n",
       "      '@cat02': '004',\n",
       "      '@cat03': '61000'},\n",
       "     {'$': '15560',\n",
       "      '@area': '11000',\n",
       "      '@cat01': '054',\n",
       "      '@cat02': '004',\n",
       "      '@cat03': '61000'},\n",
       "     {'$': '16075',\n",
       "      '@area': '12000',\n",
       "      '@cat01': '054',\n",
       "      '@cat02': '004',\n",
       "      '@cat03': '61000'},\n",
       "     {'$': '74177',\n",
       "      '@area': '13000',\n",
       "      '@cat01': '054',\n",
       "      '@cat02': '004',\n",
       "      '@cat03': '61000'},\n",
       "     {'$': '12056',\n",
       "      '@area': '14000',\n",
       "      '@cat01': '054',\n",
       "      '@cat02': '004',\n",
       "      '@cat03': '61000'},\n",
       "     {'$': '-6189',\n",
       "      '@area': '15000',\n",
       "      '@cat01': '054',\n",
       "      '@cat02': '004',\n",
       "      '@cat03': '61000'},\n",
       "     {'$': '-1004',\n",
       "      '@area': '16000',\n",
       "      '@cat01': '054',\n",
       "      '@cat02': '004',\n",
       "      '@cat03': '61000'},\n",
       "     {'$': '-811',\n",
       "      '@area': '17000',\n",
       "      '@cat01': '054',\n",
       "      '@cat02': '004',\n",
       "      '@cat03': '61000'},\n",
       "     {'$': '-1820',\n",
       "      '@area': '18000',\n",
       "      '@cat01': '054',\n",
       "      '@cat02': '004',\n",
       "      '@cat03': '61000'},\n",
       "     {'$': '-2011',\n",
       "      '@area': '19000',\n",
       "      '@cat01': '054',\n",
       "      '@cat02': '004',\n",
       "      '@cat03': '61000'},\n",
       "     {'$': '-2680',\n",
       "      '@area': '20000',\n",
       "      '@cat01': '054',\n",
       "      '@cat02': '004',\n",
       "      '@cat03': '61000'},\n",
       "     {'$': '-5031',\n",
       "      '@area': '21000',\n",
       "      '@cat01': '054',\n",
       "      '@cat02': '004',\n",
       "      '@cat03': '61000'},\n",
       "     {'$': '-6390',\n",
       "      '@area': '22000',\n",
       "      '@cat01': '054',\n",
       "      '@cat02': '004',\n",
       "      '@cat03': '61000'},\n",
       "     {'$': '6265',\n",
       "      '@area': '23000',\n",
       "      '@cat01': '054',\n",
       "      '@cat02': '004',\n",
       "      '@cat03': '61000'},\n",
       "     {'$': '-3597',\n",
       "      '@area': '24000',\n",
       "      '@cat01': '054',\n",
       "      '@cat02': '004',\n",
       "      '@cat03': '61000'},\n",
       "     {'$': '-706',\n",
       "      '@area': '25000',\n",
       "      '@cat01': '054',\n",
       "      '@cat02': '004',\n",
       "      '@cat03': '61000'},\n",
       "     {'$': '-750',\n",
       "      '@area': '26000',\n",
       "      '@cat01': '054',\n",
       "      '@cat02': '004',\n",
       "      '@cat03': '61000'},\n",
       "     {'$': '1794',\n",
       "      '@area': '27000',\n",
       "      '@cat01': '054',\n",
       "      '@cat02': '004',\n",
       "      '@cat03': '61000'},\n",
       "     {'$': '-6760',\n",
       "      '@area': '28000',\n",
       "      '@cat01': '054',\n",
       "      '@cat02': '004',\n",
       "      '@cat03': '61000'},\n",
       "     {'$': '-3619',\n",
       "      '@area': '29000',\n",
       "      '@cat01': '054',\n",
       "      '@cat02': '004',\n",
       "      '@cat03': '61000'},\n",
       "     {'$': '-3894',\n",
       "      '@area': '30000',\n",
       "      '@cat01': '054',\n",
       "      '@cat02': '004',\n",
       "      '@cat03': '61000'},\n",
       "     {'$': '-1310',\n",
       "      '@area': '31000',\n",
       "      '@cat01': '054',\n",
       "      '@cat02': '004',\n",
       "      '@cat03': '61000'},\n",
       "     {'$': '-1252',\n",
       "      '@area': '32000',\n",
       "      '@cat01': '054',\n",
       "      '@cat02': '004',\n",
       "      '@cat03': '61000'},\n",
       "     {'$': '-1973',\n",
       "      '@area': '33000',\n",
       "      '@cat01': '054',\n",
       "      '@cat02': '004',\n",
       "      '@cat03': '61000'},\n",
       "     {'$': '-2136',\n",
       "      '@area': '34000',\n",
       "      '@cat01': '054',\n",
       "      '@cat02': '004',\n",
       "      '@cat03': '61000'},\n",
       "     {'$': '-3801',\n",
       "      '@area': '35000',\n",
       "      '@cat01': '054',\n",
       "      '@cat02': '004',\n",
       "      '@cat03': '61000'},\n",
       "     {'$': '-1748',\n",
       "      '@area': '36000',\n",
       "      '@cat01': '054',\n",
       "      '@cat02': '004',\n",
       "      '@cat03': '61000'},\n",
       "     {'$': '-1101',\n",
       "      '@area': '37000',\n",
       "      '@cat01': '054',\n",
       "      '@cat02': '004',\n",
       "      '@cat03': '61000'},\n",
       "     {'$': '-3647',\n",
       "      '@area': '38000',\n",
       "      '@cat01': '054',\n",
       "      '@cat02': '004',\n",
       "      '@cat03': '61000'},\n",
       "     {'$': '-2265',\n",
       "      '@area': '39000',\n",
       "      '@cat01': '054',\n",
       "      '@cat02': '004',\n",
       "      '@cat03': '61000'},\n",
       "     {'$': '5732',\n",
       "      '@area': '40000',\n",
       "      '@cat01': '054',\n",
       "      '@cat02': '004',\n",
       "      '@cat03': '61000'},\n",
       "     {'$': '-2300',\n",
       "      '@area': '41000',\n",
       "      '@cat01': '054',\n",
       "      '@cat02': '004',\n",
       "      '@cat03': '61000'},\n",
       "     {'$': '-5573',\n",
       "      '@area': '42000',\n",
       "      '@cat01': '054',\n",
       "      '@cat02': '004',\n",
       "      '@cat03': '61000'},\n",
       "     {'$': '-6791',\n",
       "      '@area': '43000',\n",
       "      '@cat01': '054',\n",
       "      '@cat02': '004',\n",
       "      '@cat03': '61000'},\n",
       "     {'$': '-2608',\n",
       "      '@area': '44000',\n",
       "      '@cat01': '054',\n",
       "      '@cat02': '004',\n",
       "      '@cat03': '61000'},\n",
       "     {'$': '-4288',\n",
       "      '@area': '45000',\n",
       "      '@cat01': '054',\n",
       "      '@cat02': '004',\n",
       "      '@cat03': '61000'},\n",
       "     {'$': '-4473',\n",
       "      '@area': '46000',\n",
       "      '@cat01': '054',\n",
       "      '@cat02': '004',\n",
       "      '@cat03': '61000'},\n",
       "     {'$': '-272',\n",
       "      '@area': '47000',\n",
       "      '@cat01': '054',\n",
       "      '@cat02': '004',\n",
       "      '@cat03': '61000'},\n",
       "     {'$': '105817',\n",
       "      '@area': '00416',\n",
       "      '@cat01': '054',\n",
       "      '@cat02': '004',\n",
       "      '@cat03': '61000'},\n",
       "     {'$': '9137',\n",
       "      '@area': '01100',\n",
       "      '@cat01': '054',\n",
       "      '@cat02': '004',\n",
       "      '@cat03': '61000'},\n",
       "     {'$': '966',\n",
       "      '@area': '04100',\n",
       "      '@cat01': '054',\n",
       "      '@cat02': '004',\n",
       "      '@cat03': '61000'},\n",
       "     {'$': '8655',\n",
       "      '@area': '11100',\n",
       "      '@cat01': '054',\n",
       "      '@cat02': '004',\n",
       "      '@cat03': '61000'},\n",
       "     {'$': '866',\n",
       "      '@area': '12100',\n",
       "      '@cat01': '054',\n",
       "      '@cat02': '004',\n",
       "      '@cat03': '61000'},\n",
       "     {'$': '58207',\n",
       "      '@area': '13100',\n",
       "      '@cat01': '054',\n",
       "      '@cat02': '004',\n",
       "      '@cat03': '61000'},\n",
       "     {'$': '2911',\n",
       "      '@area': '14100',\n",
       "      '@cat01': '054',\n",
       "      '@cat02': '004',\n",
       "      '@cat03': '61000'},\n",
       "     {'$': '6839',\n",
       "      '@area': '14130',\n",
       "      '@cat01': '054',\n",
       "      '@cat02': '004',\n",
       "      '@cat03': '61000'},\n",
       "     {'$': '-405',\n",
       "      '@area': '14150',\n",
       "      '@cat01': '054',\n",
       "      '@cat02': '004',\n",
       "      '@cat03': '61000'},\n",
       "     {'$': '-371',\n",
       "      '@area': '15100',\n",
       "      '@cat01': '054',\n",
       "      '@cat02': '004',\n",
       "      '@cat03': '61000'},\n",
       "     {'$': '-811',\n",
       "      '@area': '22100',\n",
       "      '@cat01': '054',\n",
       "      '@cat02': '004',\n",
       "      '@cat03': '61000'},\n",
       "     {'$': '-606',\n",
       "      '@area': '22130',\n",
       "      '@cat01': '054',\n",
       "      '@cat02': '004',\n",
       "      '@cat03': '61000'},\n",
       "     {'$': '5950',\n",
       "      '@area': '23100',\n",
       "      '@cat01': '054',\n",
       "      '@cat02': '004',\n",
       "      '@cat03': '61000'},\n",
       "     {'$': '590',\n",
       "      '@area': '26100',\n",
       "      '@cat01': '054',\n",
       "      '@cat02': '004',\n",
       "      '@cat03': '61000'},\n",
       "     {'$': '9474',\n",
       "      '@area': '27100',\n",
       "      '@cat01': '054',\n",
       "      '@cat02': '004',\n",
       "      '@cat03': '61000'},\n",
       "     {'$': '-1206',\n",
       "      '@area': '27140',\n",
       "      '@cat01': '054',\n",
       "      '@cat02': '004',\n",
       "      '@cat03': '61000'},\n",
       "     {'$': '-242',\n",
       "      '@area': '28100',\n",
       "      '@cat01': '054',\n",
       "      '@cat02': '004',\n",
       "      '@cat03': '61000'},\n",
       "     {'$': '386',\n",
       "      '@area': '33100',\n",
       "      '@cat01': '054',\n",
       "      '@cat02': '004',\n",
       "      '@cat03': '61000'},\n",
       "     {'$': '1169',\n",
       "      '@area': '34100',\n",
       "      '@cat01': '054',\n",
       "      '@cat02': '004',\n",
       "      '@cat03': '61000'},\n",
       "     {'$': '-2623',\n",
       "      '@area': '40100',\n",
       "      '@cat01': '054',\n",
       "      '@cat02': '004',\n",
       "      '@cat03': '61000'},\n",
       "     {'$': '8471',\n",
       "      '@area': '40130',\n",
       "      '@cat01': '054',\n",
       "      '@cat02': '004',\n",
       "      '@cat03': '61000'},\n",
       "     {'$': '-1540',\n",
       "      '@area': '43100',\n",
       "      '@cat01': '054',\n",
       "      '@cat02': '004',\n",
       "      '@cat03': '61000'}]},\n",
       "   'RESULT_INF': {'FROM_NUMBER': 1, 'TOTAL_NUMBER': 70, 'TO_NUMBER': 70},\n",
       "   'TABLE_INF': {'@id': '0003159141',\n",
       "    'CYCLE': '年次',\n",
       "    'GOV_ORG': {'$': '総務省', '@code': '00200'},\n",
       "    'MAIN_CATEGORY': {'$': '人口・世帯', '@code': '02'},\n",
       "    'OPEN_DATE': '2017-04-27',\n",
       "    'OVERALL_TOTAL_NUMBER': 1540,\n",
       "    'SMALL_AREA': 0,\n",
       "    'STATISTICS_NAME': '住民基本台帳人口移動報告 平成28年住民基本台帳人口移動報告',\n",
       "    'STAT_NAME': {'$': '住民基本台帳人口移動報告', '@code': '00200523'},\n",
       "    'SUB_CATEGORY': {'$': '人口移動', '@code': '04'},\n",
       "    'SURVEY_DATE': '201601-201612',\n",
       "    'TITLE': {'$': '都道府県内移動者数，他都道府県からの転入者数及び他都道府県への転出者数－全国，都道府県，21大都市（平成27年，28年）',\n",
       "     '@no': '005'},\n",
       "    'UPDATED_DATE': '2017-04-25'}}}}"
      ]
     },
     "execution_count": 2,
     "metadata": {},
     "output_type": "execute_result"
    }
   ],
   "source": [
    "import json,  requests\n",
    "\n",
    "res = requests.get(url_estat)\n",
    "json_res = json.loads(res.text)\n",
    "\n",
    "json_res"
   ]
  },
  {
   "cell_type": "code",
   "execution_count": 3,
   "metadata": {
    "collapsed": true
   },
   "outputs": [],
   "source": [
    "#JSONが見づらかったのでVALUEに絞ってjson_statへ代入\n",
    "json_stat = json_res['GET_STATS_DATA']['STATISTICAL_DATA']['DATA_INF']['VALUE']"
   ]
  },
  {
   "cell_type": "code",
   "execution_count": 4,
   "metadata": {
    "collapsed": true
   },
   "outputs": [],
   "source": [
    "area = []\n",
    "increace = []\n",
    "\n",
    "for stat in json_stat:\n",
    "    area.append(stat['@area'])\n",
    "    increace.append(stat['$'])"
   ]
  },
  {
   "cell_type": "code",
   "execution_count": 5,
   "metadata": {
    "collapsed": true
   },
   "outputs": [],
   "source": [
    "from pandas import DataFrame\n",
    "import pandas as pd"
   ]
  },
  {
   "cell_type": "code",
   "execution_count": 6,
   "metadata": {
    "collapsed": true
   },
   "outputs": [],
   "source": [
    "df = pd.DataFrame({\"area\" : area, \"increace\" : increace})"
   ]
  },
  {
   "cell_type": "code",
   "execution_count": 7,
   "metadata": {
    "scrolled": true
   },
   "outputs": [
    {
     "data": {
      "text/html": [
       "<div>\n",
       "<style>\n",
       "    .dataframe thead tr:only-child th {\n",
       "        text-align: right;\n",
       "    }\n",
       "\n",
       "    .dataframe thead th {\n",
       "        text-align: left;\n",
       "    }\n",
       "\n",
       "    .dataframe tbody tr th {\n",
       "        vertical-align: top;\n",
       "    }\n",
       "</style>\n",
       "<table border=\"1\" class=\"dataframe\">\n",
       "  <thead>\n",
       "    <tr style=\"text-align: right;\">\n",
       "      <th></th>\n",
       "      <th>area</th>\n",
       "      <th>increace</th>\n",
       "    </tr>\n",
       "  </thead>\n",
       "  <tbody>\n",
       "    <tr>\n",
       "      <th>0</th>\n",
       "      <td>00000</td>\n",
       "      <td>0</td>\n",
       "    </tr>\n",
       "    <tr>\n",
       "      <th>1</th>\n",
       "      <td>01000</td>\n",
       "      <td>-6874</td>\n",
       "    </tr>\n",
       "    <tr>\n",
       "      <th>2</th>\n",
       "      <td>02000</td>\n",
       "      <td>-6323</td>\n",
       "    </tr>\n",
       "    <tr>\n",
       "      <th>3</th>\n",
       "      <td>03000</td>\n",
       "      <td>-3870</td>\n",
       "    </tr>\n",
       "    <tr>\n",
       "      <th>4</th>\n",
       "      <td>04000</td>\n",
       "      <td>-483</td>\n",
       "    </tr>\n",
       "  </tbody>\n",
       "</table>\n",
       "</div>"
      ],
      "text/plain": [
       "    area increace\n",
       "0  00000        0\n",
       "1  01000    -6874\n",
       "2  02000    -6323\n",
       "3  03000    -3870\n",
       "4  04000     -483"
      ]
     },
     "execution_count": 7,
     "metadata": {},
     "output_type": "execute_result"
    }
   ],
   "source": [
    "df.head() #DataFrameの確認"
   ]
  },
  {
   "cell_type": "code",
   "execution_count": 8,
   "metadata": {
    "collapsed": true
   },
   "outputs": [],
   "source": [
    "#面倒なのでJupyter Notebookで出力してコピった\n",
    "todohuken = [{'@code': '01000', '@level': '1', '@name': '北海道'},\n",
    "       {'@code': '02000', '@level': '1', '@name': '青森県'},\n",
    "       {'@code': '03000', '@level': '1', '@name': '岩手県'},\n",
    "       {'@code': '04000', '@level': '1', '@name': '宮城県'},\n",
    "       {'@code': '05000', '@level': '1', '@name': '秋田県'},\n",
    "       {'@code': '06000', '@level': '1', '@name': '山形県'},\n",
    "       {'@code': '07000', '@level': '1', '@name': '福島県'},\n",
    "       {'@code': '08000', '@level': '1', '@name': '茨城県'},\n",
    "       {'@code': '09000', '@level': '1', '@name': '栃木県'},\n",
    "       {'@code': '10000', '@level': '1', '@name': '群馬県'},\n",
    "       {'@code': '11000', '@level': '1', '@name': '埼玉県'},\n",
    "       {'@code': '12000', '@level': '1', '@name': '千葉県'},\n",
    "       {'@code': '13000', '@level': '1', '@name': '東京都'},\n",
    "       {'@code': '14000', '@level': '1', '@name': '神奈川県'},\n",
    "       {'@code': '15000', '@level': '1', '@name': '新潟県'},\n",
    "       {'@code': '16000', '@level': '1', '@name': '富山県'},\n",
    "       {'@code': '17000', '@level': '1', '@name': '石川県'},\n",
    "       {'@code': '18000', '@level': '1', '@name': '福井県'},\n",
    "       {'@code': '19000', '@level': '1', '@name': '山梨県'},\n",
    "       {'@code': '20000', '@level': '1', '@name': '長野県'},\n",
    "       {'@code': '21000', '@level': '1', '@name': '岐阜県'},\n",
    "       {'@code': '22000', '@level': '1', '@name': '静岡県'},\n",
    "       {'@code': '23000', '@level': '1', '@name': '愛知県'},\n",
    "       {'@code': '24000', '@level': '1', '@name': '三重県'},\n",
    "       {'@code': '25000', '@level': '1', '@name': '滋賀県'},\n",
    "       {'@code': '26000', '@level': '1', '@name': '京都府'},\n",
    "       {'@code': '27000', '@level': '1', '@name': '大阪府'},\n",
    "       {'@code': '28000', '@level': '1', '@name': '兵庫県'},\n",
    "       {'@code': '29000', '@level': '1', '@name': '奈良県'},\n",
    "       {'@code': '30000', '@level': '1', '@name': '和歌山県'},\n",
    "       {'@code': '31000', '@level': '1', '@name': '鳥取県'},\n",
    "       {'@code': '32000', '@level': '1', '@name': '島根県'},\n",
    "       {'@code': '33000', '@level': '1', '@name': '岡山県'},\n",
    "       {'@code': '34000', '@level': '1', '@name': '広島県'},\n",
    "       {'@code': '35000', '@level': '1', '@name': '山口県'},\n",
    "       {'@code': '36000', '@level': '1', '@name': '徳島県'},\n",
    "       {'@code': '37000', '@level': '1', '@name': '香川県'},\n",
    "       {'@code': '38000', '@level': '1', '@name': '愛媛県'},\n",
    "       {'@code': '39000', '@level': '1', '@name': '高知県'},\n",
    "       {'@code': '40000', '@level': '1', '@name': '福岡県'},\n",
    "       {'@code': '41000', '@level': '1', '@name': '佐賀県'},\n",
    "       {'@code': '42000', '@level': '1', '@name': '長崎県'},\n",
    "       {'@code': '43000', '@level': '1', '@name': '熊本県'},\n",
    "       {'@code': '44000', '@level': '1', '@name': '大分県'},\n",
    "       {'@code': '45000', '@level': '1', '@name': '宮崎県'},\n",
    "       {'@code': '46000', '@level': '1', '@name': '鹿児島県'},\n",
    "       {'@code': '47000', '@level': '1', '@name': '沖縄県'}]"
   ]
  },
  {
   "cell_type": "code",
   "execution_count": 9,
   "metadata": {
    "collapsed": true
   },
   "outputs": [],
   "source": [
    "#都道府県のマッピング\n",
    "convert_rules_dict = {}\n",
    "\n",
    "for rule in todohuken:\n",
    "    convert_rules_dict.update({rule['@code'] : rule['@name']})\n",
    "    \n",
    "df['area'] = df['area'].map(convert_rules_dict)"
   ]
  },
  {
   "cell_type": "code",
   "execution_count": 10,
   "metadata": {
    "collapsed": true,
    "scrolled": true
   },
   "outputs": [],
   "source": [
    "#市区町村等のいらないものを削除\n",
    "df = df.dropna() "
   ]
  },
  {
   "cell_type": "code",
   "execution_count": 11,
   "metadata": {},
   "outputs": [
    {
     "data": {
      "text/html": [
       "<div>\n",
       "<style>\n",
       "    .dataframe thead tr:only-child th {\n",
       "        text-align: right;\n",
       "    }\n",
       "\n",
       "    .dataframe thead th {\n",
       "        text-align: left;\n",
       "    }\n",
       "\n",
       "    .dataframe tbody tr th {\n",
       "        vertical-align: top;\n",
       "    }\n",
       "</style>\n",
       "<table border=\"1\" class=\"dataframe\">\n",
       "  <thead>\n",
       "    <tr style=\"text-align: right;\">\n",
       "      <th></th>\n",
       "      <th>area</th>\n",
       "      <th>increace</th>\n",
       "    </tr>\n",
       "  </thead>\n",
       "  <tbody>\n",
       "    <tr>\n",
       "      <th>1</th>\n",
       "      <td>北海道</td>\n",
       "      <td>-6874</td>\n",
       "    </tr>\n",
       "    <tr>\n",
       "      <th>2</th>\n",
       "      <td>青森県</td>\n",
       "      <td>-6323</td>\n",
       "    </tr>\n",
       "    <tr>\n",
       "      <th>3</th>\n",
       "      <td>岩手県</td>\n",
       "      <td>-3870</td>\n",
       "    </tr>\n",
       "    <tr>\n",
       "      <th>4</th>\n",
       "      <td>宮城県</td>\n",
       "      <td>-483</td>\n",
       "    </tr>\n",
       "    <tr>\n",
       "      <th>5</th>\n",
       "      <td>秋田県</td>\n",
       "      <td>-4398</td>\n",
       "    </tr>\n",
       "  </tbody>\n",
       "</table>\n",
       "</div>"
      ],
      "text/plain": [
       "  area increace\n",
       "1  北海道    -6874\n",
       "2  青森県    -6323\n",
       "3  岩手県    -3870\n",
       "4  宮城県     -483\n",
       "5  秋田県    -4398"
      ]
     },
     "execution_count": 11,
     "metadata": {},
     "output_type": "execute_result"
    }
   ],
   "source": [
    "df.head()"
   ]
  },
  {
   "cell_type": "code",
   "execution_count": 12,
   "metadata": {
    "collapsed": true
   },
   "outputs": [],
   "source": [
    "df2 = pd.read_csv('/Users/matsuzakiyousuke/tespy/todohuken_geo.csv')"
   ]
  },
  {
   "cell_type": "code",
   "execution_count": 13,
   "metadata": {},
   "outputs": [
    {
     "data": {
      "text/html": [
       "<div>\n",
       "<style>\n",
       "    .dataframe thead tr:only-child th {\n",
       "        text-align: right;\n",
       "    }\n",
       "\n",
       "    .dataframe thead th {\n",
       "        text-align: left;\n",
       "    }\n",
       "\n",
       "    .dataframe tbody tr th {\n",
       "        vertical-align: top;\n",
       "    }\n",
       "</style>\n",
       "<table border=\"1\" class=\"dataframe\">\n",
       "  <thead>\n",
       "    <tr style=\"text-align: right;\">\n",
       "      <th></th>\n",
       "      <th>No</th>\n",
       "      <th>都道府県</th>\n",
       "      <th>市区町村</th>\n",
       "      <th>緯度,経度</th>\n",
       "      <th>緯度</th>\n",
       "      <th>経度</th>\n",
       "    </tr>\n",
       "  </thead>\n",
       "  <tbody>\n",
       "    <tr>\n",
       "      <th>0</th>\n",
       "      <td>1</td>\n",
       "      <td>北海道</td>\n",
       "      <td>札幌市</td>\n",
       "      <td>43.06417,141.34694</td>\n",
       "      <td>43.06417</td>\n",
       "      <td>141.34694</td>\n",
       "    </tr>\n",
       "    <tr>\n",
       "      <th>1</th>\n",
       "      <td>2</td>\n",
       "      <td>青森県</td>\n",
       "      <td>青森市</td>\n",
       "      <td>40.82444,140.74</td>\n",
       "      <td>40.82444</td>\n",
       "      <td>140.74000</td>\n",
       "    </tr>\n",
       "    <tr>\n",
       "      <th>2</th>\n",
       "      <td>3</td>\n",
       "      <td>岩手県</td>\n",
       "      <td>盛岡市</td>\n",
       "      <td>39.70361,141.1525</td>\n",
       "      <td>39.70361</td>\n",
       "      <td>141.15250</td>\n",
       "    </tr>\n",
       "    <tr>\n",
       "      <th>3</th>\n",
       "      <td>4</td>\n",
       "      <td>宮城県</td>\n",
       "      <td>仙台市</td>\n",
       "      <td>38.26889,140.87194</td>\n",
       "      <td>38.26889</td>\n",
       "      <td>140.87194</td>\n",
       "    </tr>\n",
       "    <tr>\n",
       "      <th>4</th>\n",
       "      <td>5</td>\n",
       "      <td>秋田県</td>\n",
       "      <td>秋田市</td>\n",
       "      <td>39.71861,140.1025</td>\n",
       "      <td>39.71861</td>\n",
       "      <td>140.10250</td>\n",
       "    </tr>\n",
       "  </tbody>\n",
       "</table>\n",
       "</div>"
      ],
      "text/plain": [
       "   No 都道府県 市区町村               緯度,経度        緯度         経度\n",
       "0   1  北海道  札幌市  43.06417,141.34694  43.06417  141.34694\n",
       "1   2  青森県  青森市     40.82444,140.74  40.82444  140.74000\n",
       "2   3  岩手県  盛岡市   39.70361,141.1525  39.70361  141.15250\n",
       "3   4  宮城県  仙台市  38.26889,140.87194  38.26889  140.87194\n",
       "4   5  秋田県  秋田市   39.71861,140.1025  39.71861  140.10250"
      ]
     },
     "execution_count": 13,
     "metadata": {},
     "output_type": "execute_result"
    }
   ],
   "source": [
    "df2.head()"
   ]
  },
  {
   "cell_type": "code",
   "execution_count": 14,
   "metadata": {
    "collapsed": true
   },
   "outputs": [],
   "source": [
    "todohuken_data_geo = pd.merge(df, df２, left_on='area', right_on='都道府県')"
   ]
  },
  {
   "cell_type": "code",
   "execution_count": 15,
   "metadata": {
    "collapsed": true
   },
   "outputs": [],
   "source": [
    "del todohuken_data_geo['No'], todohuken_data_geo['area']"
   ]
  },
  {
   "cell_type": "code",
   "execution_count": 16,
   "metadata": {},
   "outputs": [
    {
     "data": {
      "text/html": [
       "<div>\n",
       "<style>\n",
       "    .dataframe thead tr:only-child th {\n",
       "        text-align: right;\n",
       "    }\n",
       "\n",
       "    .dataframe thead th {\n",
       "        text-align: left;\n",
       "    }\n",
       "\n",
       "    .dataframe tbody tr th {\n",
       "        vertical-align: top;\n",
       "    }\n",
       "</style>\n",
       "<table border=\"1\" class=\"dataframe\">\n",
       "  <thead>\n",
       "    <tr style=\"text-align: right;\">\n",
       "      <th></th>\n",
       "      <th>increace</th>\n",
       "      <th>都道府県</th>\n",
       "      <th>市区町村</th>\n",
       "      <th>緯度,経度</th>\n",
       "      <th>緯度</th>\n",
       "      <th>経度</th>\n",
       "    </tr>\n",
       "  </thead>\n",
       "  <tbody>\n",
       "    <tr>\n",
       "      <th>0</th>\n",
       "      <td>-6874</td>\n",
       "      <td>北海道</td>\n",
       "      <td>札幌市</td>\n",
       "      <td>43.06417,141.34694</td>\n",
       "      <td>43.06417</td>\n",
       "      <td>141.34694</td>\n",
       "    </tr>\n",
       "    <tr>\n",
       "      <th>1</th>\n",
       "      <td>-6323</td>\n",
       "      <td>青森県</td>\n",
       "      <td>青森市</td>\n",
       "      <td>40.82444,140.74</td>\n",
       "      <td>40.82444</td>\n",
       "      <td>140.74000</td>\n",
       "    </tr>\n",
       "    <tr>\n",
       "      <th>2</th>\n",
       "      <td>-3870</td>\n",
       "      <td>岩手県</td>\n",
       "      <td>盛岡市</td>\n",
       "      <td>39.70361,141.1525</td>\n",
       "      <td>39.70361</td>\n",
       "      <td>141.15250</td>\n",
       "    </tr>\n",
       "    <tr>\n",
       "      <th>3</th>\n",
       "      <td>-483</td>\n",
       "      <td>宮城県</td>\n",
       "      <td>仙台市</td>\n",
       "      <td>38.26889,140.87194</td>\n",
       "      <td>38.26889</td>\n",
       "      <td>140.87194</td>\n",
       "    </tr>\n",
       "    <tr>\n",
       "      <th>4</th>\n",
       "      <td>-4398</td>\n",
       "      <td>秋田県</td>\n",
       "      <td>秋田市</td>\n",
       "      <td>39.71861,140.1025</td>\n",
       "      <td>39.71861</td>\n",
       "      <td>140.10250</td>\n",
       "    </tr>\n",
       "  </tbody>\n",
       "</table>\n",
       "</div>"
      ],
      "text/plain": [
       "  increace 都道府県 市区町村               緯度,経度        緯度         経度\n",
       "0    -6874  北海道  札幌市  43.06417,141.34694  43.06417  141.34694\n",
       "1    -6323  青森県  青森市     40.82444,140.74  40.82444  140.74000\n",
       "2    -3870  岩手県  盛岡市   39.70361,141.1525  39.70361  141.15250\n",
       "3     -483  宮城県  仙台市  38.26889,140.87194  38.26889  140.87194\n",
       "4    -4398  秋田県  秋田市   39.71861,140.1025  39.71861  140.10250"
      ]
     },
     "execution_count": 16,
     "metadata": {},
     "output_type": "execute_result"
    }
   ],
   "source": [
    "todohuken_data_geo.head()"
   ]
  },
  {
   "cell_type": "markdown",
   "metadata": {},
   "source": [
    "## 地図プロット"
   ]
  },
  {
   "cell_type": "code",
   "execution_count": 17,
   "metadata": {
    "collapsed": true
   },
   "outputs": [],
   "source": [
    "%matplotlib inline\n",
    "import folium\n",
    "\n",
    "todohuken_map = folium.Map(location=[todohuken_data_geo['緯度'].mean(), todohuken_data_geo['経度'].mean()], zoom_start=5)"
   ]
  },
  {
   "cell_type": "code",
   "execution_count": 18,
   "metadata": {
    "scrolled": true
   },
   "outputs": [
    {
     "data": {
      "text/html": [
       "<div style=\"width:100%;\"><div style=\"position:relative;width:100%;height:0;padding-bottom:60%;\"><iframe src=\"data:text/html;charset=utf-8;base64,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\" style=\"position:absolute;width:100%;height:100%;left:0;top:0;border:none !important;\" allowfullscreen webkitallowfullscreen mozallowfullscreen></iframe></div></div>"
      ],
      "text/plain": [
       "<folium.folium.Map at 0x112896c88>"
      ]
     },
     "execution_count": 18,
     "metadata": {},
     "output_type": "execute_result"
    }
   ],
   "source": [
    "todohuken_map"
   ]
  },
  {
   "cell_type": "code",
   "execution_count": 19,
   "metadata": {},
   "outputs": [
    {
     "data": {
      "text/plain": [
       "35.382405106382976"
      ]
     },
     "execution_count": 19,
     "metadata": {},
     "output_type": "execute_result"
    }
   ],
   "source": [
    "todohuken_data_geo['緯度'].mean()"
   ]
  },
  {
   "cell_type": "markdown",
   "metadata": {},
   "source": [
    "### 県庁所在地をマーカー表示"
   ]
  },
  {
   "cell_type": "code",
   "execution_count": 20,
   "metadata": {
    "collapsed": true
   },
   "outputs": [],
   "source": [
    "#緯度・経度のタプルが作りたかったが良い方法わからず。力技感\n",
    "coordinates = []\n",
    "\n",
    "keido = list(todohuken_data_geo['経度'])\n",
    "ido = list(todohuken_data_geo['緯度'])\n",
    "\n",
    "for k, i in zip(keido, ido):\n",
    "    coordinates.append((i, k))"
   ]
  },
  {
   "cell_type": "code",
   "execution_count": 21,
   "metadata": {},
   "outputs": [
    {
     "data": {
      "text/html": [
       "<div style=\"width:100%;\"><div style=\"position:relative;width:100%;height:0;padding-bottom:60%;\"><iframe src=\"data:text/html;charset=utf-8;base64,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\" style=\"position:absolute;width:100%;height:100%;left:0;top:0;border:none !important;\" allowfullscreen webkitallowfullscreen mozallowfullscreen></iframe></div></div>"
      ],
      "text/plain": [
       "<folium.folium.Map at 0x112896c88>"
      ]
     },
     "execution_count": 21,
     "metadata": {},
     "output_type": "execute_result"
    }
   ],
   "source": [
    "#マーカー追加していく\n",
    "for i in range(0,len(coordinates)):\n",
    "\n",
    "    folium.Marker(coordinates[i],\n",
    "                 ).add_to(todohuken_map)\n",
    "\n",
    "todohuken_map"
   ]
  },
  {
   "cell_type": "markdown",
   "metadata": {},
   "source": [
    "### 県庁所在地の集まり具合をヒートマップ化"
   ]
  },
  {
   "cell_type": "code",
   "execution_count": 22,
   "metadata": {},
   "outputs": [
    {
     "data": {
      "text/html": [
       "<div style=\"width:100%;\"><div style=\"position:relative;width:100%;height:0;padding-bottom:60%;\"><iframe src=\"data:text/html;charset=utf-8;base64,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\" style=\"position:absolute;width:100%;height:100%;left:0;top:0;border:none !important;\" allowfullscreen webkitallowfullscreen mozallowfullscreen></iframe></div></div>"
      ],
      "text/plain": [
       "<folium.folium.Map at 0x1135f5208>"
      ]
     },
     "execution_count": 22,
     "metadata": {},
     "output_type": "execute_result"
    }
   ],
   "source": [
    "from folium.plugins import HeatMap\n",
    "\n",
    "# initialize map\n",
    "todohuken_map = folium.Map(location=[todohuken_data_geo['緯度'].mean(), todohuken_data_geo['経度'].mean()], zoom_start=5)\n",
    "\n",
    "# add heat\n",
    "todohuken_map.add_child(HeatMap(coordinates))\n",
    "todohuken_map"
   ]
  },
  {
   "cell_type": "markdown",
   "metadata": {},
   "source": [
    "### 人口増をヒートマップ化"
   ]
  },
  {
   "cell_type": "code",
   "execution_count": 23,
   "metadata": {
    "collapsed": true
   },
   "outputs": [],
   "source": [
    "coordinates_plus = []\n",
    "\n",
    "keido = list(todohuken_data_geo['経度'])\n",
    "ido = list(todohuken_data_geo['緯度'])\n",
    "increace = list(todohuken_data_geo['increace'])\n",
    "                \n",
    "for k, i, ic in zip(keido, ido, increace):\n",
    "    coordinates_plus.append((i, k, float(ic)))"
   ]
  },
  {
   "cell_type": "code",
   "execution_count": 25,
   "metadata": {},
   "outputs": [
    {
     "data": {
      "text/html": [
       "<div style=\"width:100%;\"><div style=\"position:relative;width:100%;height:0;padding-bottom:60%;\"><iframe src=\"data:text/html;charset=utf-8;base64,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\" style=\"position:absolute;width:100%;height:100%;left:0;top:0;border:none !important;\" allowfullscreen webkitallowfullscreen mozallowfullscreen></iframe></div></div>"
      ],
      "text/plain": [
       "<folium.folium.Map at 0x1136f39b0>"
      ]
     },
     "execution_count": 25,
     "metadata": {},
     "output_type": "execute_result"
    }
   ],
   "source": [
    "# initialize map\n",
    "todohuken_map = folium.Map(location=[todohuken_data_geo['緯度'].mean(), todohuken_data_geo['経度'].mean()], zoom_start=5)\n",
    "\n",
    "colormap = {-10000: 'blue', 200000: 'lime', 400000: 'red'}\n",
    "\n",
    "# add heat\n",
    "todohuken_map.add_child(HeatMap(coordinates_plus,  radius=12))\n",
    "todohuken_map"
   ]
  },
  {
   "cell_type": "code",
   "execution_count": null,
   "metadata": {
    "collapsed": true
   },
   "outputs": [],
   "source": []
  }
 ],
 "metadata": {
  "kernelspec": {
   "display_name": "Python 3",
   "language": "python",
   "name": "python3"
  },
  "language_info": {
   "codemirror_mode": {
    "name": "ipython",
    "version": 3
   },
   "file_extension": ".py",
   "mimetype": "text/x-python",
   "name": "python",
   "nbconvert_exporter": "python",
   "pygments_lexer": "ipython3",
   "version": "3.6.1"
  }
 },
 "nbformat": 4,
 "nbformat_minor": 2
}
